{
  "nbformat": 4,
  "nbformat_minor": 0,
  "metadata": {
    "colab": {
      "provenance": []
    },
    "kernelspec": {
      "name": "python3",
      "display_name": "Python 3"
    },
    "language_info": {
      "name": "python"
    }
  },
  "cells": [
    {
      "cell_type": "code",
      "execution_count": 4,
      "metadata": {
        "colab": {
          "base_uri": "https://localhost:8080/"
        },
        "id": "Mc0SrzLPGjIQ",
        "outputId": "aa8e28c3-181f-459e-c217-e9aa001f88f9"
      },
      "outputs": [
        {
          "output_type": "stream",
          "name": "stdout",
          "text": [
            "Requirement already satisfied: pydub in /usr/local/lib/python3.10/dist-packages (0.25.1)\n"
          ]
        }
      ],
      "source": [
        "#preprocessing\n",
        "!pip install pydub\n"
      ]
    },
    {
      "cell_type": "code",
      "source": [
        "import pydub\n",
        "import soundfile as sf\n",
        "import librosa\n",
        "from pydub import AudioSegment\n",
        "import os"
      ],
      "metadata": {
        "id": "P7xwq2jSH23C"
      },
      "execution_count": 11,
      "outputs": []
    },
    {
      "cell_type": "code",
      "source": [
        "#30 min segmentation\n",
        "\n",
        "\n",
        "# Function to process the audio files\n",
        "def process_audio_files(input_folder, output_folder):\n",
        "    # Create the output folder\n",
        "    if not os.path.exists(output_folder):\n",
        "        os.makedirs(output_folder)\n",
        "\n",
        "    total_files_created = 0\n",
        "\n",
        "    for root, dirs, files in os.walk(input_folder):\n",
        "        rel_path = os.path.relpath(root, input_folder)\n",
        "        output_subfolder = os.path.join(output_folder, rel_path)\n",
        "\n",
        "        if not os.path.exists(output_subfolder):\n",
        "            os.makedirs(output_subfolder)\n",
        "\n",
        "        for file in files:\n",
        "            if file.endswith('.mp3') or file.endswith('.wav'):\n",
        "                file_path = os.path.join(root, file)\n",
        "                output_file_folder = os.path.join(output_subfolder, file)\n",
        "\n",
        "                # Load the audio file\n",
        "                audio = AudioSegment.from_file(file_path)\n",
        "\n",
        "                # Ensure the audio duration is a multiple of 30 minutes\n",
        "                audio = audio[:-(len(audio) % (30 * 60 * 1000))]\n",
        "\n",
        "                # Calculate the number of 30-minute segments\n",
        "                num_segments = len(audio) // (30 * 60 * 1000)\n",
        "\n",
        "                # Split audio into 30-minute segments\n",
        "                for i in range(num_segments):\n",
        "                    start_time = i * 30 * 60 * 1000\n",
        "                    end_time = (i + 1) * 30 * 60 * 1000\n",
        "                    segment = audio[start_time:end_time]\n",
        "\n",
        "                    # Save each segment\n",
        "                    segment.export(f\"{output_file_folder}segment{i}.mp3\", format=\"mp3\")\n",
        "\n",
        "                    print(f\"Segment {i} of {file} created.\")\n",
        "                    total_files_created += 1\n",
        "\n",
        "    print(f\"Total number of files created: {total_files_created}\")\n",
        "\n",
        "# Define input and output folders\n",
        "input_folder_path = 'm/content/drive/MyDrive/unseg_rag'\n",
        "output_folder_path = '/content/drive/MyDrive/30minsegr'\n",
        "\n",
        "# Process the audio files\n",
        "process_audio_files(input_folder_path, output_folder_path)"
      ],
      "metadata": {
        "id": "n-CDk-B0yYkf"
      },
      "execution_count": null,
      "outputs": []
    },
    {
      "cell_type": "code",
      "source": [
        "!pip install noisereduce"
      ],
      "metadata": {
        "colab": {
          "base_uri": "https://localhost:8080/"
        },
        "id": "mGIHVwAq0Dmy",
        "outputId": "dce5e4d3-9566-43dc-f7fc-d26e7e914e7c"
      },
      "execution_count": 86,
      "outputs": [
        {
          "output_type": "stream",
          "name": "stdout",
          "text": [
            "Collecting noisereduce\n",
            "  Downloading noisereduce-3.0.0-py3-none-any.whl (22 kB)\n",
            "Requirement already satisfied: scipy in /usr/local/lib/python3.10/dist-packages (from noisereduce) (1.11.3)\n",
            "Requirement already satisfied: matplotlib in /usr/local/lib/python3.10/dist-packages (from noisereduce) (3.7.1)\n",
            "Requirement already satisfied: librosa in /usr/local/lib/python3.10/dist-packages (from noisereduce) (0.10.1)\n",
            "Requirement already satisfied: numpy in /usr/local/lib/python3.10/dist-packages (from noisereduce) (1.23.5)\n",
            "Requirement already satisfied: tqdm in /usr/local/lib/python3.10/dist-packages (from noisereduce) (4.66.1)\n",
            "Requirement already satisfied: audioread>=2.1.9 in /usr/local/lib/python3.10/dist-packages (from librosa->noisereduce) (3.0.1)\n",
            "Requirement already satisfied: scikit-learn>=0.20.0 in /usr/local/lib/python3.10/dist-packages (from librosa->noisereduce) (1.2.2)\n",
            "Requirement already satisfied: joblib>=0.14 in /usr/local/lib/python3.10/dist-packages (from librosa->noisereduce) (1.3.2)\n",
            "Requirement already satisfied: decorator>=4.3.0 in /usr/local/lib/python3.10/dist-packages (from librosa->noisereduce) (4.4.2)\n",
            "Requirement already satisfied: numba>=0.51.0 in /usr/local/lib/python3.10/dist-packages (from librosa->noisereduce) (0.56.4)\n",
            "Requirement already satisfied: soundfile>=0.12.1 in /usr/local/lib/python3.10/dist-packages (from librosa->noisereduce) (0.12.1)\n",
            "Requirement already satisfied: pooch>=1.0 in /usr/local/lib/python3.10/dist-packages (from librosa->noisereduce) (1.8.0)\n",
            "Requirement already satisfied: soxr>=0.3.2 in /usr/local/lib/python3.10/dist-packages (from librosa->noisereduce) (0.3.7)\n",
            "Requirement already satisfied: typing-extensions>=4.1.1 in /usr/local/lib/python3.10/dist-packages (from librosa->noisereduce) (4.5.0)\n",
            "Requirement already satisfied: lazy-loader>=0.1 in /usr/local/lib/python3.10/dist-packages (from librosa->noisereduce) (0.3)\n",
            "Requirement already satisfied: msgpack>=1.0 in /usr/local/lib/python3.10/dist-packages (from librosa->noisereduce) (1.0.7)\n",
            "Requirement already satisfied: contourpy>=1.0.1 in /usr/local/lib/python3.10/dist-packages (from matplotlib->noisereduce) (1.1.1)\n",
            "Requirement already satisfied: cycler>=0.10 in /usr/local/lib/python3.10/dist-packages (from matplotlib->noisereduce) (0.12.1)\n",
            "Requirement already satisfied: fonttools>=4.22.0 in /usr/local/lib/python3.10/dist-packages (from matplotlib->noisereduce) (4.43.1)\n",
            "Requirement already satisfied: kiwisolver>=1.0.1 in /usr/local/lib/python3.10/dist-packages (from matplotlib->noisereduce) (1.4.5)\n",
            "Requirement already satisfied: packaging>=20.0 in /usr/local/lib/python3.10/dist-packages (from matplotlib->noisereduce) (23.2)\n",
            "Requirement already satisfied: pillow>=6.2.0 in /usr/local/lib/python3.10/dist-packages (from matplotlib->noisereduce) (9.4.0)\n",
            "Requirement already satisfied: pyparsing>=2.3.1 in /usr/local/lib/python3.10/dist-packages (from matplotlib->noisereduce) (3.1.1)\n",
            "Requirement already satisfied: python-dateutil>=2.7 in /usr/local/lib/python3.10/dist-packages (from matplotlib->noisereduce) (2.8.2)\n",
            "Requirement already satisfied: llvmlite<0.40,>=0.39.0dev0 in /usr/local/lib/python3.10/dist-packages (from numba>=0.51.0->librosa->noisereduce) (0.39.1)\n",
            "Requirement already satisfied: setuptools in /usr/local/lib/python3.10/dist-packages (from numba>=0.51.0->librosa->noisereduce) (67.7.2)\n",
            "Requirement already satisfied: platformdirs>=2.5.0 in /usr/local/lib/python3.10/dist-packages (from pooch>=1.0->librosa->noisereduce) (3.11.0)\n",
            "Requirement already satisfied: requests>=2.19.0 in /usr/local/lib/python3.10/dist-packages (from pooch>=1.0->librosa->noisereduce) (2.31.0)\n",
            "Requirement already satisfied: six>=1.5 in /usr/local/lib/python3.10/dist-packages (from python-dateutil>=2.7->matplotlib->noisereduce) (1.16.0)\n",
            "Requirement already satisfied: threadpoolctl>=2.0.0 in /usr/local/lib/python3.10/dist-packages (from scikit-learn>=0.20.0->librosa->noisereduce) (3.2.0)\n",
            "Requirement already satisfied: cffi>=1.0 in /usr/local/lib/python3.10/dist-packages (from soundfile>=0.12.1->librosa->noisereduce) (1.16.0)\n",
            "Requirement already satisfied: pycparser in /usr/local/lib/python3.10/dist-packages (from cffi>=1.0->soundfile>=0.12.1->librosa->noisereduce) (2.21)\n",
            "Requirement already satisfied: charset-normalizer<4,>=2 in /usr/local/lib/python3.10/dist-packages (from requests>=2.19.0->pooch>=1.0->librosa->noisereduce) (3.3.1)\n",
            "Requirement already satisfied: idna<4,>=2.5 in /usr/local/lib/python3.10/dist-packages (from requests>=2.19.0->pooch>=1.0->librosa->noisereduce) (3.4)\n",
            "Requirement already satisfied: urllib3<3,>=1.21.1 in /usr/local/lib/python3.10/dist-packages (from requests>=2.19.0->pooch>=1.0->librosa->noisereduce) (2.0.7)\n",
            "Requirement already satisfied: certifi>=2017.4.17 in /usr/local/lib/python3.10/dist-packages (from requests>=2.19.0->pooch>=1.0->librosa->noisereduce) (2023.7.22)\n",
            "Installing collected packages: noisereduce\n",
            "Successfully installed noisereduce-3.0.0\n"
          ]
        }
      ]
    },
    {
      "cell_type": "code",
      "source": [
        "#noisereduction\n",
        "import noisereduce as nr\n",
        "\n",
        "# Define the root directory where you want to start the search\n",
        "root_dir = \"seg_raag\"\n",
        "\n",
        "# Define the output directory for denoised audio files\n",
        "output_dir = \"normalized_30min_seg\"\n",
        "\n",
        "# Ensure the output directory exists\n",
        "os.makedirs(output_dir, exist_ok=True)\n",
        "\n",
        "# Function to apply noise reduction to an audio file\n",
        "def reduce_noise(input_path, output_path):\n",
        "    # Load the audio file\n",
        "    audio, sr = librosa.load(input_path, sr=None)\n",
        "\n",
        "    # Apply noise reduction using noisereduce\n",
        "    reduced_audio = nr.reduce_noise(y=audio, sr=sr)\n",
        "\n",
        "    # Save the denoised audio\n",
        "    sf.write(output_path, reduced_audio, sr)\n",
        "\n",
        "    print(f\"Denoised {input_path} and saved to {output_path}\")\n",
        "\n",
        "# Recursively loop through audio files in the directory and its subfolders\n",
        "for root, dirs, files in os.walk(root_dir):\n",
        "    for file in files:\n",
        "        if file.lower().endswith(\".mp3\"):  # Check if it's an audio file (adjust extensions if needed)\n",
        "            input_path = os.path.join(root, file)\n",
        "            output_path = os.path.join(output_dir, os.path.relpath(input_path, root_dir))\n",
        "\n",
        "            # Create the corresponding subdirectories in the output directory\n",
        "            os.makedirs(os.path.dirname(output_path), exist_ok=True)\n",
        "\n",
        "            # Apply noise reduction to the audio file and save it\n",
        "            reduce_noise(input_path, output_path)"
      ],
      "metadata": {
        "id": "I2HzGypAzPiu"
      },
      "execution_count": null,
      "outputs": []
    },
    {
      "cell_type": "code",
      "source": [
        "\n",
        "#puriya dhanashree\n",
        "# Load the audio file\n",
        "raga = \"/content/drive/MyDrive/normalized_30min_seg/Puriya Dhanashree/Raga Puriya Dhanashree (Vilambit and Drut Bandish).mp3_segment_0.mp3\" #bhimsen joshi\n",
        "y, sr = librosa.load(raga)\n",
        "\n",
        "# Change the pitch from F to C#\n",
        "new_y = librosa.effects.pitch_shift(y, sr=sr, n_steps=-4)\n",
        "\n",
        "# Save the converted audio file\n",
        "sf.write(\"converted.wav\", new_y, sr)\n",
        "\n",
        "original_audio = AudioSegment.from_file(\"converted.wav\")\n",
        "\n",
        "# Define the duration of each segment (5 seconds)\n",
        "segment_duration = 5 * 1000\n",
        "\n",
        "\n",
        "\n",
        "# Split the audio into segments\n",
        "num_segments = len(original_audio) // segment_duration\n",
        "for i in range(num_segments):\n",
        "    start_time = i * segment_duration\n",
        "    end_time = (i + 1) * segment_duration\n",
        "    audio_segment = original_audio[start_time:end_time]\n",
        "\n",
        "    # Save each segment to the puriya dhanashree directory\n",
        "    segment_filename = os.path.join(\"/content/drive/MyDrive/5sectrained/PuriyaDhanashree\", f\"segment_{i}.wav\")\n",
        "    audio_segment.export(segment_filename, format=\"wav\")\n",
        "\n",
        "# Print the number of segments\n",
        "print(f\"Number of segments generated: {num_segments}\")\n",
        "\n",
        "\n",
        "\n"
      ],
      "metadata": {
        "colab": {
          "base_uri": "https://localhost:8080/"
        },
        "id": "UeySj0Wvq0PD",
        "outputId": "3a1cab9d-7e33-4689-b3ac-1e5bb312a35e"
      },
      "execution_count": 12,
      "outputs": [
        {
          "output_type": "stream",
          "name": "stdout",
          "text": [
            "Number of segments generated: 360\n"
          ]
        }
      ]
    },
    {
      "cell_type": "code",
      "source": [
        "\n",
        "#puriya dhanashree\n",
        "# Load the audio file\n",
        "raga = \"/content/drive/MyDrive/normalized_30min_seg/Puriya Dhanashree/Smt Veena Sahasrabuddhe Raag Puriya Dhanashree.mp3_segment_0.mp3\"#veena\n",
        "y, sr = librosa.load(raga)\n",
        "\n",
        "# Change the pitch from A# to C#\n",
        "new_y = librosa.effects.pitch_shift(y, sr=sr, n_steps=3)\n",
        "\n",
        "# Save the converted audio file\n",
        "sf.write(\"converted.wav\", new_y, sr)\n",
        "\n",
        "original_audio = AudioSegment.from_file(\"converted.wav\")\n",
        "\n",
        "# Define the duration of each segment (5 seconds)\n",
        "segment_duration = 5 * 1000\n",
        "\n",
        "\n",
        "\n",
        "# Split the audio into segments\n",
        "num_segments = len(original_audio) // segment_duration\n",
        "for i in range(num_segments):\n",
        "    start_time = i * segment_duration\n",
        "    end_time = (i + 1) * segment_duration\n",
        "    audio_segment = original_audio[start_time:end_time]\n",
        "\n",
        "    # Save each segment to the 'Bhimplasi outsource' directory\n",
        "    segment_filename = os.path.join(\"/content/drive/MyDrive/5sectrained/PuriyaDhanashree\", f\"segment_{i+360}.wav\")\n",
        "    audio_segment.export(segment_filename, format=\"wav\")\n",
        "\n",
        "# Print the number of segments\n",
        "print(f\"Number of segments generated: {num_segments}\")\n",
        "\n",
        "\n",
        "\n"
      ],
      "metadata": {
        "colab": {
          "base_uri": "https://localhost:8080/"
        },
        "id": "ehWN2gMfsGej",
        "outputId": "6be99bea-b66f-4714-e4d4-a8aec5e872a5"
      },
      "execution_count": 13,
      "outputs": [
        {
          "output_type": "stream",
          "name": "stdout",
          "text": [
            "Number of segments generated: 360\n"
          ]
        }
      ]
    },
    {
      "cell_type": "code",
      "source": [
        "\n",
        "#puriya dhanashree\n",
        "# Load the audio file\n",
        "raga = \"/content/drive/MyDrive/normalized_30min_seg/Puriya Dhanashree/Raag Puriya Dhanashree -Pt Ulhas Kashalkar.mp3_segment_0.mp3\"#ulhas\n",
        "y, sr = librosa.load(raga)\n",
        "\n",
        "# Change the pitch from D# to C#\n",
        "new_y = librosa.effects.pitch_shift(y, sr=sr, n_steps=-2) #ulhas\n",
        "\n",
        "# Save the converted audio file\n",
        "sf.write(\"converted.wav\", new_y, sr)\n",
        "\n",
        "original_audio = AudioSegment.from_file(\"converted.wav\")\n",
        "\n",
        "# Define the duration of each segment (5 seconds)\n",
        "segment_duration = 5 * 1000\n",
        "\n",
        "\n",
        "\n",
        "# Split the audio into segments\n",
        "num_segments = len(original_audio) // segment_duration\n",
        "for i in range(num_segments):\n",
        "    start_time = i * segment_duration\n",
        "    end_time = (i + 1) * segment_duration\n",
        "    audio_segment = original_audio[start_time:end_time]\n",
        "\n",
        "    # Save each segment to the 'pd outsource' directory\n",
        "    segment_filename = os.path.join(\"/content/drive/MyDrive/5sectrained/PuriyaDhanashree\", f\"segment_{i+720}.wav\")\n",
        "    audio_segment.export(segment_filename, format=\"wav\")\n",
        "\n",
        "# Print the number of segments\n",
        "print(f\"Number of segments generated: {num_segments}\")\n",
        "\n",
        "\n",
        "\n"
      ],
      "metadata": {
        "colab": {
          "base_uri": "https://localhost:8080/"
        },
        "id": "X_2WHFAIse0n",
        "outputId": "ce6d0c94-1efc-4249-a88a-a1aa24029c9b"
      },
      "execution_count": 14,
      "outputs": [
        {
          "output_type": "stream",
          "name": "stdout",
          "text": [
            "Number of segments generated: 360\n"
          ]
        }
      ]
    },
    {
      "cell_type": "code",
      "source": [
        "\n",
        "#puriya dhanashree\n",
        "# Load the audio file\n",
        "raga = \"/content/drive/MyDrive/normalized_30min_seg/Puriya Dhanashree/Smt Kishori Amonkar - Puriya Dhanashree.mp3_segment_0.mp3\" #kishori\n",
        "y, sr = librosa.load(raga)\n",
        "\n",
        "# Change the pitch from A# to C#\n",
        "new_y = librosa.effects.pitch_shift(y, sr=sr, n_steps=3) #ulhas\n",
        "\n",
        "# Save the converted audio file\n",
        "sf.write(\"converted.wav\", new_y, sr)\n",
        "\n",
        "original_audio = AudioSegment.from_file(\"converted.wav\")\n",
        "\n",
        "# Define the duration of each segment (5 seconds)\n",
        "segment_duration = 5 * 1000\n",
        "\n",
        "\n",
        "\n",
        "# Split the audio into segments\n",
        "num_segments = len(original_audio) // segment_duration\n",
        "for i in range(num_segments):\n",
        "    start_time = i * segment_duration\n",
        "    end_time = (i + 1) * segment_duration\n",
        "    audio_segment = original_audio[start_time:end_time]\n",
        "\n",
        "    # Save each segment to the 'Bhimplasi outsource' directory\n",
        "    segment_filename = os.path.join(\"/content/drive/MyDrive/5sectrained/PuriyaDhanashree\", f\"segment_{i+1080}.wav\")\n",
        "    audio_segment.export(segment_filename, format=\"wav\")\n",
        "\n",
        "# Print the number of segments\n",
        "print(f\"Number of segments generated: {num_segments}\")\n",
        "\n",
        "\n",
        "\n"
      ],
      "metadata": {
        "colab": {
          "base_uri": "https://localhost:8080/"
        },
        "id": "RSnkfJy1uqMI",
        "outputId": "6ec4c1b4-e423-429e-b850-7fad1f8e613a"
      },
      "execution_count": 15,
      "outputs": [
        {
          "output_type": "stream",
          "name": "stdout",
          "text": [
            "Number of segments generated: 360\n"
          ]
        }
      ]
    },
    {
      "cell_type": "code",
      "source": [
        "\n",
        "#puriya dhanashree\n",
        "# Load the audio file\n",
        "raga = \"/content/drive/MyDrive/normalized_30min_seg/Puriya Dhanashree/Raga Puriya Dhanashree - Begum Parveen Sultana.mp3_segment_0.mp3\" #parveen\n",
        "y, sr = librosa.load(raga)\n",
        "\n",
        "# Change the pitch from A# to C#\n",
        "new_y = librosa.effects.pitch_shift(y, sr=sr, n_steps=3) #ulhas\n",
        "\n",
        "# Save the converted audio file\n",
        "sf.write(\"converted.wav\", new_y, sr)\n",
        "\n",
        "original_audio = AudioSegment.from_file(\"converted.wav\")\n",
        "\n",
        "# Define the duration of each segment (5 seconds)\n",
        "segment_duration = 5 * 1000\n",
        "\n",
        "\n",
        "\n",
        "# Split the audio into segments\n",
        "num_segments = len(original_audio) // segment_duration\n",
        "for i in range(num_segments):\n",
        "    start_time = i * segment_duration\n",
        "    end_time = (i + 1) * segment_duration\n",
        "    audio_segment = original_audio[start_time:end_time]\n",
        "\n",
        "    # Save each segment to the 'Bhimplasi outsource' directory\n",
        "    segment_filename = os.path.join(\"/content/drive/MyDrive/5sectrained/PuriyaDhanashree\", f\"segment_{i+1440}.wav\")\n",
        "    audio_segment.export(segment_filename, format=\"wav\")\n",
        "\n",
        "# Print the number of segments\n",
        "print(f\"Number of segments generated: {num_segments}\")\n",
        "\n",
        "\n",
        "\n"
      ],
      "metadata": {
        "colab": {
          "base_uri": "https://localhost:8080/"
        },
        "id": "YwfOIGCDuwab",
        "outputId": "483b99dc-6dfd-4d86-8a85-e4708e870b9a"
      },
      "execution_count": 16,
      "outputs": [
        {
          "output_type": "stream",
          "name": "stdout",
          "text": [
            "Number of segments generated: 360\n"
          ]
        }
      ]
    },
    {
      "cell_type": "code",
      "source": [
        "\n",
        "#malkans\n",
        "# Load the audio file\n",
        "raga = \"/content/drive/MyDrive/normalized_30min_seg/Malkans/Ajoy Chakraborty  Raga Malkauns.mp3_segment_0.mp3\" #ahoy\n",
        "y, sr = librosa.load(raga)\n",
        "\n",
        "# Change the pitch from C# to C#\n",
        "new_y = librosa.effects.pitch_shift(y, sr=sr, n_steps=0) #ulhas\n",
        "\n",
        "# Save the converted audio file\n",
        "sf.write(\"converted.wav\", new_y, sr)\n",
        "\n",
        "original_audio = AudioSegment.from_file(\"converted.wav\")\n",
        "\n",
        "# Define the duration of each segment (5 seconds)\n",
        "segment_duration = 5 * 1000\n",
        "\n",
        "\n",
        "\n",
        "# Split the audio into segments\n",
        "num_segments = len(original_audio) // segment_duration\n",
        "for i in range(num_segments):\n",
        "    start_time = i * segment_duration\n",
        "    end_time = (i + 1) * segment_duration\n",
        "    audio_segment = original_audio[start_time:end_time]\n",
        "\n",
        "    # Save each segment to the 'Bhimplasi outsource' directory\n",
        "    segment_filename = os.path.join(\"/content/drive/MyDrive/5sectrained/Malkans\", f\"segment_{i}.wav\") #change directory to malkasns\n",
        "    audio_segment.export(segment_filename, format=\"wav\")\n",
        "\n",
        "# Print the number of segments\n",
        "print(f\"Number of segments generated: {num_segments}\")\n",
        "\n",
        "\n",
        "\n"
      ],
      "metadata": {
        "colab": {
          "base_uri": "https://localhost:8080/"
        },
        "id": "xxTUZ2-Cu8YO",
        "outputId": "23db598d-c966-468d-a02f-f3167a42cb04"
      },
      "execution_count": 17,
      "outputs": [
        {
          "output_type": "stream",
          "name": "stdout",
          "text": [
            "Number of segments generated: 360\n"
          ]
        }
      ]
    },
    {
      "cell_type": "code",
      "source": [
        "\n",
        "#malkans\n",
        "# Load the audio file\n",
        "raga = \"/content/drive/MyDrive/normalized_30min_seg/Malkans/Raag Malkauns - Smt Veena Sahasrabudhe, Live at Savai.mp3_segment_0.mp3\" #veena\n",
        "y, sr = librosa.load(raga)\n",
        "\n",
        "# Change the pitch from A to C#\n",
        "new_y = librosa.effects.pitch_shift(y, sr=sr, n_steps=4) #ulhas\n",
        "\n",
        "# Save the converted audio file\n",
        "sf.write(\"converted.wav\", new_y, sr)\n",
        "\n",
        "original_audio = AudioSegment.from_file(\"converted.wav\")\n",
        "\n",
        "# Define the duration of each segment (5 seconds)\n",
        "segment_duration = 5 * 1000\n",
        "\n",
        "\n",
        "\n",
        "# Split the audio into segments\n",
        "num_segments = len(original_audio) // segment_duration\n",
        "for i in range(num_segments):\n",
        "    start_time = i * segment_duration\n",
        "    end_time = (i + 1) * segment_duration\n",
        "    audio_segment = original_audio[start_time:end_time]\n",
        "\n",
        "    # Save each segment to the 'Bhimplasi outsource' directory\n",
        "    segment_filename = os.path.join(\"/content/drive/MyDrive/5sectrained/Malkans\", f\"segment_{i+360}.wav\") #change directory to malkasns\n",
        "    audio_segment.export(segment_filename, format=\"wav\")\n",
        "\n",
        "# Print the number of segments\n",
        "print(f\"Number of segments generated: {num_segments}\")\n",
        "\n",
        "\n",
        "\n"
      ],
      "metadata": {
        "colab": {
          "base_uri": "https://localhost:8080/"
        },
        "id": "bJfkuO7QvZ6U",
        "outputId": "b0e01a74-64c3-4987-a498-464f8e2316d0"
      },
      "execution_count": 18,
      "outputs": [
        {
          "output_type": "stream",
          "name": "stdout",
          "text": [
            "Number of segments generated: 360\n"
          ]
        }
      ]
    },
    {
      "cell_type": "code",
      "source": [
        "\n",
        "#malkans\n",
        "# Load the audio file\n",
        "raga = \"/content/drive/MyDrive/normalized_30min_seg/Malkans/Raga Malkauns  Vidushi Dr. Ashwini Bhide Deshpande  Gunidas Sangeet Sammelan, 2021.mp3_segment_0.mp3\" #ashwini\n",
        "y, sr = librosa.load(raga)\n",
        "\n",
        "# Change the pitch from A# to C#\n",
        "new_y = librosa.effects.pitch_shift(y, sr=sr, n_steps=3) #ulhas\n",
        "\n",
        "# Save the converted audio file\n",
        "sf.write(\"converted.wav\", new_y, sr)\n",
        "\n",
        "original_audio = AudioSegment.from_file(\"converted.wav\")\n",
        "\n",
        "# Define the duration of each segment (5 seconds)\n",
        "segment_duration = 5 * 1000\n",
        "\n",
        "\n",
        "\n",
        "# Split the audio into segments\n",
        "num_segments = len(original_audio) // segment_duration\n",
        "for i in range(num_segments):\n",
        "    start_time = i * segment_duration\n",
        "    end_time = (i + 1) * segment_duration\n",
        "    audio_segment = original_audio[start_time:end_time]\n",
        "\n",
        "    # Save each segment to the 'Bhimplasi outsource' directory\n",
        "    segment_filename = os.path.join(\"/content/drive/MyDrive/5sectrained/Malkans\", f\"segment_{i+720}.wav\")\n",
        "    audio_segment.export(segment_filename, format=\"wav\")\n",
        "\n",
        "# Print the number of segments\n",
        "print(f\"Number of segments generated: {num_segments}\")\n",
        "\n",
        "\n",
        "\n"
      ],
      "metadata": {
        "colab": {
          "base_uri": "https://localhost:8080/"
        },
        "id": "X-vHPHravjSQ",
        "outputId": "69753f70-c6d2-49fe-d093-bab8677783b8"
      },
      "execution_count": 19,
      "outputs": [
        {
          "output_type": "stream",
          "name": "stdout",
          "text": [
            "Number of segments generated: 360\n"
          ]
        }
      ]
    },
    {
      "cell_type": "code",
      "source": [
        "\n",
        "#malkans\n",
        "# Load the audio file\n",
        "raga = \"/content/drive/MyDrive/normalized_30min_seg/Malkans/Raga Malkauns_Kaushiki Chakraborty.mp3_segment_0.mp3\" #rashid\n",
        "y, sr = librosa.load(raga)\n",
        "\n",
        "# Change the pitch from D to C#\n",
        "new_y = librosa.effects.pitch_shift(y, sr=sr, n_steps=-1) #ulhas\n",
        "\n",
        "# Save the converted audio file\n",
        "sf.write(\"converted.wav\", new_y, sr)\n",
        "\n",
        "original_audio = AudioSegment.from_file(\"converted.wav\")\n",
        "\n",
        "# Define the duration of each segment (5 seconds)\n",
        "segment_duration = 5 * 1000\n",
        "\n",
        "\n",
        "\n",
        "# Split the audio into segments\n",
        "num_segments = len(original_audio) // segment_duration\n",
        "for i in range(num_segments):\n",
        "    start_time = i * segment_duration\n",
        "    end_time = (i + 1) * segment_duration\n",
        "    audio_segment = original_audio[start_time:end_time]\n",
        "\n",
        "    # Save each segment to the 'Bhimplasi outsource' directory\n",
        "    segment_filename = os.path.join(\"/content/drive/MyDrive/5sectrained/Malkans\", f\"segment_{i+1080}.wav\")\n",
        "    audio_segment.export(segment_filename, format=\"wav\")\n",
        "\n",
        "# Print the number of segments\n",
        "print(f\"Number of segments generated: {num_segments}\")\n",
        "\n",
        "\n",
        "\n"
      ],
      "metadata": {
        "colab": {
          "base_uri": "https://localhost:8080/"
        },
        "id": "hvjsKYR-vsY5",
        "outputId": "060b1760-5451-4b8d-c7d1-2fd6626fe7d8"
      },
      "execution_count": 20,
      "outputs": [
        {
          "output_type": "stream",
          "name": "stdout",
          "text": [
            "Number of segments generated: 360\n"
          ]
        }
      ]
    },
    {
      "cell_type": "code",
      "source": [
        "\n",
        "#malkans\n",
        "# Load the audio file\n",
        "raga = \"/content/drive/MyDrive/normalized_30min_seg/Malkans/Raga Malkauns_Kaushiki Chakraborty.mp3_segment_0.mp3\" #kaushiki\n",
        "y, sr = librosa.load(raga)\n",
        "\n",
        "# Change the pitch from A# to C#\n",
        "new_y = librosa.effects.pitch_shift(y, sr=sr, n_steps=-3) #ulhas\n",
        "\n",
        "# Save the converted audio file\n",
        "sf.write(\"converted.wav\", new_y, sr)\n",
        "\n",
        "original_audio = AudioSegment.from_file(\"converted.wav\")\n",
        "\n",
        "# Define the duration of each segment (5 seconds)\n",
        "segment_duration = 5 * 1000\n",
        "\n",
        "\n",
        "\n",
        "# Split the audio into segments\n",
        "num_segments = len(original_audio) // segment_duration\n",
        "for i in range(num_segments):\n",
        "    start_time = i * segment_duration\n",
        "    end_time = (i + 1) * segment_duration\n",
        "    audio_segment = original_audio[start_time:end_time]\n",
        "\n",
        "    # Save each segment to the 'Bhimplasi outsource' directory\n",
        "    segment_filename = os.path.join(\"/content/drive/MyDrive/5sectrained/Malkans\", f\"segment_{i+1440}.wav\")\n",
        "    audio_segment.export(segment_filename, format=\"wav\")\n",
        "\n",
        "# Print the number of segments\n",
        "print(f\"Number of segments generated: {num_segments}\")\n",
        "\n",
        "\n",
        "\n"
      ],
      "metadata": {
        "colab": {
          "base_uri": "https://localhost:8080/"
        },
        "id": "bYQp6PlDwU8H",
        "outputId": "7432877f-f587-4658-ee7c-027107bf4a93"
      },
      "execution_count": 21,
      "outputs": [
        {
          "output_type": "stream",
          "name": "stdout",
          "text": [
            "Number of segments generated: 360\n"
          ]
        }
      ]
    },
    {
      "cell_type": "code",
      "source": [
        "\n",
        "#yaman\n",
        "# Load the audio file\n",
        "raga = \"/content/drive/MyDrive/normalized_30min_seg/Yaman/Raag Yaman - Masterpeices of Ustad Amir Khan - Sur Chakra (1).mp3_segment_0.mp3\" #rashid\n",
        "y, sr = librosa.load(raga)\n",
        "\n",
        "# Change the pitch from C# to C#\n",
        "new_y = librosa.effects.pitch_shift(y, sr=sr, n_steps=0) #ulhas\n",
        "\n",
        "# Save the converted audio file\n",
        "sf.write(\"converted.wav\", new_y, sr)\n",
        "\n",
        "original_audio = AudioSegment.from_file(\"converted.wav\")\n",
        "\n",
        "# Define the duration of each segment (5 seconds)\n",
        "segment_duration = 5 * 1000\n",
        "\n",
        "\n",
        "\n",
        "# Split the audio into segments\n",
        "num_segments = len(original_audio) // segment_duration\n",
        "for i in range(num_segments):\n",
        "    start_time = i * segment_duration\n",
        "    end_time = (i + 1) * segment_duration\n",
        "    audio_segment = original_audio[start_time:end_time]\n",
        "\n",
        "    # Save each segment to the 'Bhimplasi outsource' directory\n",
        "    segment_filename = os.path.join(\"/content/drive/MyDrive/5sectrained/Yaman\", f\"segment_{i}.wav\")\n",
        "    audio_segment.export(segment_filename, format=\"wav\")\n",
        "\n",
        "# Print the number of segments\n",
        "print(f\"Number of segments generated: {num_segments}\")\n",
        "\n",
        "\n",
        "\n"
      ],
      "metadata": {
        "colab": {
          "base_uri": "https://localhost:8080/"
        },
        "id": "5V_AVdJvwcvh",
        "outputId": "71fffb08-3323-4505-d203-73d673702483"
      },
      "execution_count": 22,
      "outputs": [
        {
          "output_type": "stream",
          "name": "stdout",
          "text": [
            "Number of segments generated: 360\n"
          ]
        }
      ]
    },
    {
      "cell_type": "code",
      "source": [
        "\n",
        "#yaman\n",
        "# Load the audio file\n",
        "raga = \"/content/drive/MyDrive/normalized_30min_seg/Yaman/Raag Yaman by Kishori Amonkar.mp3_segment_0.mp3\" #kishori\n",
        "y, sr = librosa.load(raga)\n",
        "\n",
        "# Change the pitch from B to C#\n",
        "new_y = librosa.effects.pitch_shift(y, sr=sr, n_steps=2) #ulhas\n",
        "\n",
        "# Save the converted audio file\n",
        "sf.write(\"converted.wav\", new_y, sr)\n",
        "\n",
        "original_audio = AudioSegment.from_file(\"converted.wav\")\n",
        "\n",
        "# Define the duration of each segment (5 seconds)\n",
        "segment_duration = 5 * 1000\n",
        "\n",
        "\n",
        "\n",
        "# Split the audio into segments\n",
        "num_segments = len(original_audio) // segment_duration\n",
        "for i in range(num_segments):\n",
        "    start_time = i * segment_duration\n",
        "    end_time = (i + 1) * segment_duration\n",
        "    audio_segment = original_audio[start_time:end_time]\n",
        "\n",
        "    # Save each segment to the 'Bhimplasi outsource' directory\n",
        "    segment_filename = os.path.join(\"/content/drive/MyDrive/5sectrained/Yaman\", f\"segment_{i+360}.wav\")\n",
        "    audio_segment.export(segment_filename, format=\"wav\")\n",
        "\n",
        "# Print the number of segments\n",
        "print(f\"Number of segments generated: {num_segments}\")\n",
        "\n",
        "\n",
        "\n"
      ],
      "metadata": {
        "colab": {
          "base_uri": "https://localhost:8080/"
        },
        "id": "S6YEQAI8xlxy",
        "outputId": "718c5f7e-4b2a-4ed3-d50d-3f6112b7fc27"
      },
      "execution_count": 23,
      "outputs": [
        {
          "output_type": "stream",
          "name": "stdout",
          "text": [
            "Number of segments generated: 360\n"
          ]
        }
      ]
    },
    {
      "cell_type": "code",
      "source": [
        "\n",
        "#yaman\n",
        "# Load the audio file\n",
        "raga = \"/content/drive/MyDrive/normalized_30min_seg/Yaman/Raag Yaman by Pt. Bhimsen Joshi (1965).mp3_segment_0.mp3\" #bhimsen\n",
        "y, sr = librosa.load(raga)\n",
        "\n",
        "# Change the pitch from F to C#\n",
        "new_y = librosa.effects.pitch_shift(y, sr=sr, n_steps=-4) #ulhas\n",
        "\n",
        "# Save the converted audio file\n",
        "sf.write(\"converted.wav\", new_y, sr)\n",
        "\n",
        "original_audio = AudioSegment.from_file(\"converted.wav\")\n",
        "\n",
        "# Define the duration of each segment (5 seconds)\n",
        "segment_duration = 5 * 1000\n",
        "\n",
        "\n",
        "\n",
        "# Split the audio into segments\n",
        "num_segments = len(original_audio) // segment_duration\n",
        "for i in range(num_segments):\n",
        "    start_time = i * segment_duration\n",
        "    end_time = (i + 1) * segment_duration\n",
        "    audio_segment = original_audio[start_time:end_time]\n",
        "\n",
        "    # Save each segment to the 'Bhimplasi outsource' directory\n",
        "    segment_filename = os.path.join(\"//content/drive/MyDrive/5sectrained/Yaman\", f\"segment_{i+720}.wav\")\n",
        "    audio_segment.export(segment_filename, format=\"wav\")\n",
        "\n",
        "# Print the number of segments\n",
        "print(f\"Number of segments generated: {num_segments}\")\n",
        "\n",
        "\n",
        "\n"
      ],
      "metadata": {
        "colab": {
          "base_uri": "https://localhost:8080/"
        },
        "id": "G10YTnHkxxEZ",
        "outputId": "719236f5-605c-44cc-aada-52e31cd9230d"
      },
      "execution_count": 24,
      "outputs": [
        {
          "output_type": "stream",
          "name": "stdout",
          "text": [
            "Number of segments generated: 360\n"
          ]
        }
      ]
    },
    {
      "cell_type": "code",
      "source": [
        "\n",
        "#yaman\n",
        "# Load the audio file\n",
        "raga = \"/content/drive/MyDrive/normalized_30min_seg/Yaman/Pt Bhimsen Joshi  Raag,Yaman -  kahe sakhee kaiseke kariye _ shyaama bajaaye aaja muraliyaa.mp3_segment_0.mp3\" #bhimsen1\n",
        "y, sr = librosa.load(raga)\n",
        "\n",
        "# Change the pitch from D# to C#\n",
        "new_y = librosa.effects.pitch_shift(y, sr=sr, n_steps=-2) #ulhas\n",
        "\n",
        "# Save the converted audio file\n",
        "sf.write(\"converted.wav\", new_y, sr)\n",
        "\n",
        "original_audio = AudioSegment.from_file(\"converted.wav\")\n",
        "\n",
        "# Define the duration of each segment (5 seconds)\n",
        "segment_duration = 5 * 1000\n",
        "\n",
        "\n",
        "\n",
        "# Split the audio into segments\n",
        "num_segments = len(original_audio) // segment_duration\n",
        "for i in range(num_segments):\n",
        "    start_time = i * segment_duration\n",
        "    end_time = (i + 1) * segment_duration\n",
        "    audio_segment = original_audio[start_time:end_time]\n",
        "\n",
        "    # Save each segment to the 'Bhimplasi outsource' directory\n",
        "    segment_filename = os.path.join(\"/content/drive/MyDrive/5sectrained/Yaman\", f\"segment_{i+1080}.wav\")\n",
        "    audio_segment.export(segment_filename, format=\"wav\")\n",
        "\n",
        "# Print the number of segments\n",
        "print(f\"Number of segments generated: {num_segments}\")\n",
        "\n",
        "\n",
        "\n"
      ],
      "metadata": {
        "colab": {
          "base_uri": "https://localhost:8080/"
        },
        "id": "iHXjtjSZx6cR",
        "outputId": "ec7bec7f-a6b0-4cfc-a182-140f6a161a1c"
      },
      "execution_count": 25,
      "outputs": [
        {
          "output_type": "stream",
          "name": "stdout",
          "text": [
            "Number of segments generated: 360\n"
          ]
        }
      ]
    },
    {
      "cell_type": "code",
      "source": [
        "\n",
        "#yaman\n",
        "# Load the audio file\n",
        "raga = \"/content/drive/MyDrive/normalized_30min_seg/Yaman/Pt Bhimsen Joshi  Raag,Yaman -  kahe sakhee kaiseke kariye _ shyaama bajaaye aaja muraliyaa.mp3_segment_0.mp3\" #bhimsen2\n",
        "y, sr = librosa.load(raga)\n",
        "\n",
        "# Change the pitch from D# to C#\n",
        "new_y = librosa.effects.pitch_shift(y, sr=sr, n_steps=-2) #ulhas\n",
        "\n",
        "# Save the converted audio file\n",
        "sf.write(\"converted.wav\", new_y, sr)\n",
        "\n",
        "original_audio = AudioSegment.from_file(\"converted.wav\")\n",
        "\n",
        "# Define the duration of each segment (5 seconds)\n",
        "segment_duration = 5 * 1000\n",
        "\n",
        "\n",
        "\n",
        "# Split the audio into segments\n",
        "num_segments = len(original_audio) // segment_duration\n",
        "for i in range(num_segments):\n",
        "    start_time = i * segment_duration\n",
        "    end_time = (i + 1) * segment_duration\n",
        "    audio_segment = original_audio[start_time:end_time]\n",
        "\n",
        "    # Save each segment to the 'Bhimplasi outsource' directory\n",
        "    segment_filename = os.path.join(\"/content/drive/MyDrive/5sectrained/Yaman\", f\"segment_{i+1440}.wav\")\n",
        "    audio_segment.export(segment_filename, format=\"wav\")\n",
        "\n",
        "# Print the number of segments\n",
        "print(f\"Number of segments generated: {num_segments}\")\n",
        "\n",
        "\n",
        "\n"
      ],
      "metadata": {
        "colab": {
          "base_uri": "https://localhost:8080/"
        },
        "id": "exE26WViy_21",
        "outputId": "35122fd9-967e-410a-83b3-0b24ffdbac62"
      },
      "execution_count": 26,
      "outputs": [
        {
          "output_type": "stream",
          "name": "stdout",
          "text": [
            "Number of segments generated: 360\n"
          ]
        }
      ]
    },
    {
      "cell_type": "code",
      "source": [
        "\n",
        "#bhoop\n",
        "# Load the audio file\n",
        "raga = \"/content/drive/MyDrive/normalized_30min_seg/Bhoop/Pt. Raghunandan Panshikar_ Raag Bhoop.mp3_segment_0.mp3\" #raghunandan\n",
        "y, sr = librosa.load(raga)\n",
        "\n",
        "# Change the pitch from D# to C#\n",
        "new_y = librosa.effects.pitch_shift(y, sr=sr, n_steps=-2)\n",
        "\n",
        "# Save the converted audio file\n",
        "sf.write(\"converted.wav\", new_y, sr)\n",
        "\n",
        "original_audio = AudioSegment.from_file(\"converted.wav\")\n",
        "\n",
        "# Define the duration of each segment (5 seconds)\n",
        "segment_duration = 5 * 1000\n",
        "\n",
        "\n",
        "\n",
        "# Split the audio into segments\n",
        "num_segments = len(original_audio) // segment_duration\n",
        "for i in range(num_segments):\n",
        "    start_time = i * segment_duration\n",
        "    end_time = (i + 1) * segment_duration\n",
        "    audio_segment = original_audio[start_time:end_time]\n",
        "\n",
        "    # Save each segment to the 'Bhimplasi outsource' directory\n",
        "    segment_filename = os.path.join(\"/content/drive/MyDrive/5sectrained/Bhoop\", f\"segment_{i}.wav\") #bhoop\n",
        "    audio_segment.export(segment_filename, format=\"wav\")\n",
        "\n",
        "# Print the number of segments\n",
        "print(f\"Number of segments generated: {num_segments}\")\n",
        "\n",
        "\n",
        "\n"
      ],
      "metadata": {
        "colab": {
          "base_uri": "https://localhost:8080/"
        },
        "id": "eTWbDvmBybEL",
        "outputId": "7bb51dcb-4564-4f23-d2c7-6e835aacd622"
      },
      "execution_count": 27,
      "outputs": [
        {
          "output_type": "stream",
          "name": "stdout",
          "text": [
            "Number of segments generated: 360\n"
          ]
        }
      ]
    },
    {
      "cell_type": "code",
      "source": [
        "\n",
        "#bhoop\n",
        "# Load the audio file\n",
        "raga = \"/content/drive/MyDrive/normalized_30min_seg/Bhoop/Raga Bhoop  Vidushi Dr. Ashwini Bhide Deshpande.mp3_segment_0.mp3\" #ashwini\n",
        "y, sr = librosa.load(raga)\n",
        "\n",
        "# Change the pitch from A to C#\n",
        "new_y = librosa.effects.pitch_shift(y, sr=sr, n_steps=4)\n",
        "\n",
        "# Save the converted audio file\n",
        "sf.write(\"converted.wav\", new_y, sr)\n",
        "\n",
        "original_audio = AudioSegment.from_file(\"converted.wav\")\n",
        "\n",
        "# Define the duration of each segment (5 seconds)\n",
        "segment_duration = 5 * 1000\n",
        "\n",
        "\n",
        "\n",
        "# Split the audio into segments\n",
        "num_segments = len(original_audio) // segment_duration\n",
        "for i in range(num_segments):\n",
        "    start_time = i * segment_duration\n",
        "    end_time = (i + 1) * segment_duration\n",
        "    audio_segment = original_audio[start_time:end_time]\n",
        "\n",
        "    # Save each segment to the 'Bhimplasi outsource' directory\n",
        "    segment_filename = os.path.join(\"/content/drive/MyDrive/5sectrained/Bhoop\", f\"segment_{i+360}.wav\")\n",
        "    audio_segment.export(segment_filename, format=\"wav\")\n",
        "\n",
        "# Print the number of segments\n",
        "print(f\"Number of segments generated: {num_segments}\")\n",
        "\n",
        "\n",
        "\n"
      ],
      "metadata": {
        "colab": {
          "base_uri": "https://localhost:8080/"
        },
        "id": "7KlVhrpqzOm4",
        "outputId": "4894e525-2870-4c3d-ed6a-f9304167ebf3"
      },
      "execution_count": 28,
      "outputs": [
        {
          "output_type": "stream",
          "name": "stdout",
          "text": [
            "Number of segments generated: 360\n"
          ]
        }
      ]
    },
    {
      "cell_type": "code",
      "source": [
        "\n",
        "#bhoop\n",
        "# Load the audio file\n",
        "raga = \"/content/drive/MyDrive/normalized_30min_seg/Bhoop/Smt. Kishori Amonkar_ Raga Bhoopali.mp3_segment_0.mp3\" #kishori1\n",
        "y, sr = librosa.load(raga)\n",
        "\n",
        "# Change the pitch from A# to C#\n",
        "new_y = librosa.effects.pitch_shift(y, sr=sr, n_steps=3)\n",
        "\n",
        "# Save the converted audio file\n",
        "sf.write(\"converted.wav\", new_y, sr)\n",
        "\n",
        "original_audio = AudioSegment.from_file(\"converted.wav\")\n",
        "\n",
        "# Define the duration of each segment (5 seconds)\n",
        "segment_duration = 5 * 1000\n",
        "\n",
        "\n",
        "\n",
        "# Split the audio into segments\n",
        "num_segments = len(original_audio) // segment_duration\n",
        "for i in range(num_segments):\n",
        "    start_time = i * segment_duration\n",
        "    end_time = (i + 1) * segment_duration\n",
        "    audio_segment = original_audio[start_time:end_time]\n",
        "\n",
        "    # Save each segment to the 'Bhimplasi outsource' directory\n",
        "    segment_filename = os.path.join(\"/content/drive/MyDrive/5sectrained/Bhoop\", f\"segment_{i+720}.wav\")\n",
        "    audio_segment.export(segment_filename, format=\"wav\")\n",
        "\n",
        "# Print the number of segments\n",
        "print(f\"Number of segments generated: {num_segments}\")\n",
        "\n",
        "\n",
        "\n"
      ],
      "metadata": {
        "colab": {
          "base_uri": "https://localhost:8080/"
        },
        "id": "ByRc-SsnzaU2",
        "outputId": "112be37d-f73c-4ac0-b46d-a4d9d32516dc"
      },
      "execution_count": 29,
      "outputs": [
        {
          "output_type": "stream",
          "name": "stdout",
          "text": [
            "Number of segments generated: 360\n"
          ]
        }
      ]
    },
    {
      "cell_type": "code",
      "source": [
        "\n",
        "#bhoop\n",
        "# Load the audio file\n",
        "raga = \"/content/drive/MyDrive/normalized_30min_seg/Bhoop/Smt. Kishori Amonkar_ Raga Bhoopali.mp3_segment_1.mp3\" #kishori2\n",
        "y, sr = librosa.load(raga)\n",
        "\n",
        "# Change the pitch from A# to C#\n",
        "new_y = librosa.effects.pitch_shift(y, sr=sr, n_steps=3)\n",
        "\n",
        "# Save the converted audio file\n",
        "sf.write(\"converted.wav\", new_y, sr)\n",
        "\n",
        "original_audio = AudioSegment.from_file(\"converted.wav\")\n",
        "\n",
        "# Define the duration of each segment (5 seconds)\n",
        "segment_duration = 5 * 1000\n",
        "\n",
        "\n",
        "\n",
        "# Split the audio into segments\n",
        "num_segments = len(original_audio) // segment_duration\n",
        "for i in range(num_segments):\n",
        "    start_time = i * segment_duration\n",
        "    end_time = (i + 1) * segment_duration\n",
        "    audio_segment = original_audio[start_time:end_time]\n",
        "\n",
        "    # Save each segment to the 'Bhimplasi outsource' directory\n",
        "    segment_filename = os.path.join(\"/content/drive/MyDrive/5sectrained/Bhoop\", f\"segment_{i+1080}.wav\")\n",
        "    audio_segment.export(segment_filename, format=\"wav\")\n",
        "\n",
        "# Print the number of segments\n",
        "print(f\"Number of segments generated: {num_segments}\")\n",
        "\n",
        "\n",
        "\n"
      ],
      "metadata": {
        "colab": {
          "base_uri": "https://localhost:8080/"
        },
        "id": "f9O2_qxrzqba",
        "outputId": "a4ce7690-22ef-4723-cf9c-24d38a00b5d5"
      },
      "execution_count": 30,
      "outputs": [
        {
          "output_type": "stream",
          "name": "stdout",
          "text": [
            "Number of segments generated: 360\n"
          ]
        }
      ]
    },
    {
      "cell_type": "code",
      "source": [
        "\n",
        "#bhoop\n",
        "# Load the audio file\n",
        "raga = \"/content/drive/MyDrive/normalized_30min_seg/Bhoop/Rahul Deshpande-Raag Bhoop (1).mp3_segment_0.mp3\" #rahul\n",
        "y, sr = librosa.load(raga)\n",
        "\n",
        "# Change the pitch from D to C#\n",
        "new_y = librosa.effects.pitch_shift(y, sr=sr, n_steps=-1)\n",
        "\n",
        "# Save the converted audio file\n",
        "sf.write(\"converted.wav\", new_y, sr)\n",
        "\n",
        "original_audio = AudioSegment.from_file(\"converted.wav\")\n",
        "\n",
        "# Define the duration of each segment (5 seconds)\n",
        "segment_duration = 5 * 1000\n",
        "\n",
        "\n",
        "\n",
        "# Split the audio into segments\n",
        "num_segments = len(original_audio) // segment_duration\n",
        "for i in range(num_segments):\n",
        "    start_time = i * segment_duration\n",
        "    end_time = (i + 1) * segment_duration\n",
        "    audio_segment = original_audio[start_time:end_time]\n",
        "\n",
        "    # Save each segment to the 'Bhimplasi outsource' directory\n",
        "    segment_filename = os.path.join(\"/content/drive/MyDrive/5sectrained/Bhoop\", f\"segment_{i+1440}.wav\")\n",
        "    audio_segment.export(segment_filename, format=\"wav\")\n",
        "\n",
        "# Print the number of segments\n",
        "print(f\"Number of segments generated: {num_segments}\")\n",
        "\n",
        "\n",
        "\n"
      ],
      "metadata": {
        "colab": {
          "base_uri": "https://localhost:8080/"
        },
        "id": "qwswQgsJztuY",
        "outputId": "4336dbd0-e9a5-4a6b-a60c-15fce4262f6c"
      },
      "execution_count": 31,
      "outputs": [
        {
          "output_type": "stream",
          "name": "stdout",
          "text": [
            "Number of segments generated: 360\n"
          ]
        }
      ]
    },
    {
      "cell_type": "code",
      "source": [
        "\n",
        "#durga1\n",
        "# Load the audio file\n",
        "raga = \"/content/drive/MyDrive/normalized_30min_seg/Durga/Bharat Ratna Pandit Bhimsen Joshi sings Raga Durga..mp3_segment_0.mp3\" #bhimsen\n",
        "y, sr = librosa.load(raga)\n",
        "\n",
        "# Change the pitch from D# to C#\n",
        "new_y = librosa.effects.pitch_shift(y, sr=sr, n_steps=-2)\n",
        "\n",
        "# Save the converted audio file\n",
        "sf.write(\"converted.wav\", new_y, sr)\n",
        "\n",
        "original_audio = AudioSegment.from_file(\"converted.wav\")\n",
        "\n",
        "# Define the duration of each segment (5 seconds)\n",
        "segment_duration = 5 * 1000\n",
        "\n",
        "\n",
        "\n",
        "# Split the audio into segments\n",
        "num_segments = len(original_audio) // segment_duration\n",
        "for i in range(num_segments):\n",
        "    start_time = i * segment_duration\n",
        "    end_time = (i + 1) * segment_duration\n",
        "    audio_segment = original_audio[start_time:end_time]\n",
        "\n",
        "    # Save each segment to the 'Bhimplasi outsource' directory\n",
        "    segment_filename = os.path.join(\"/content/drive/MyDrive/5sectrained/Durga\", f\"segment_{i}.wav\") #durga\n",
        "    audio_segment.export(segment_filename, format=\"wav\")\n",
        "\n",
        "# Print the number of segments\n",
        "print(f\"Number of segments generated: {num_segments}\")\n",
        "\n",
        "\n",
        "\n"
      ],
      "metadata": {
        "colab": {
          "base_uri": "https://localhost:8080/"
        },
        "id": "g1tyP8Fvz1tb",
        "outputId": "81f66825-114b-4715-ddf2-ad12795a6498"
      },
      "execution_count": 32,
      "outputs": [
        {
          "output_type": "stream",
          "name": "stdout",
          "text": [
            "Number of segments generated: 360\n"
          ]
        }
      ]
    },
    {
      "cell_type": "code",
      "source": [
        "\n",
        "#durga2\n",
        "# Load the audio file\n",
        "raga = \"/content/drive/MyDrive/normalized_30min_seg/Durga/Shalmalee Joshi vocal.raag durga.mp3_segment_0.mp3\" #shalmali\n",
        "y, sr = librosa.load(raga)\n",
        "\n",
        "# Change the pitch from A to C#\n",
        "new_y = librosa.effects.pitch_shift(y, sr=sr, n_steps=--4)\n",
        "\n",
        "# Save the converted audio file\n",
        "sf.write(\"converted.wav\", new_y, sr)\n",
        "\n",
        "original_audio = AudioSegment.from_file(\"converted.wav\")\n",
        "\n",
        "# Define the duration of each segment (5 seconds)\n",
        "segment_duration = 5 * 1000\n",
        "\n",
        "\n",
        "\n",
        "# Split the audio into segments\n",
        "num_segments = len(original_audio) // segment_duration\n",
        "for i in range(num_segments):\n",
        "    start_time = i * segment_duration\n",
        "    end_time = (i + 1) * segment_duration\n",
        "    audio_segment = original_audio[start_time:end_time]\n",
        "\n",
        "    # Save each segment to the 'Bhimplasi outsource' directory\n",
        "    segment_filename = os.path.join(\"/content/drive/MyDrive/5sectrained/Durga\", f\"segment_{i+360}.wav\") #durga\n",
        "    audio_segment.export(segment_filename, format=\"wav\")\n",
        "\n",
        "# Print the number of segments\n",
        "print(f\"Number of segments generated: {num_segments}\")\n",
        "\n",
        "\n",
        "\n"
      ],
      "metadata": {
        "colab": {
          "base_uri": "https://localhost:8080/"
        },
        "id": "yFyPIljs1H3R",
        "outputId": "dfafbb62-3521-4ce0-96e1-0dabfab89378"
      },
      "execution_count": 33,
      "outputs": [
        {
          "output_type": "stream",
          "name": "stdout",
          "text": [
            "Number of segments generated: 360\n"
          ]
        }
      ]
    },
    {
      "cell_type": "code",
      "source": [
        "\n",
        "#durga3\n",
        "# Load the audio file\n",
        "raga = \"/content/drive/MyDrive/normalized_30min_seg/Durga/Raga Durga  Mahesh Kale  Sakhi Mori.mp3_segment_0.mp3\" #mahesh\n",
        "y, sr = librosa.load(raga)\n",
        "\n",
        "# Change the pitch from D to C#\n",
        "new_y = librosa.effects.pitch_shift(y, sr=sr, n_steps=-1)\n",
        "\n",
        "# Save the converted audio file\n",
        "sf.write(\"converted.wav\", new_y, sr)\n",
        "\n",
        "original_audio = AudioSegment.from_file(\"converted.wav\")\n",
        "\n",
        "# Define the duration of each segment (5 seconds)\n",
        "segment_duration = 5 * 1000\n",
        "\n",
        "\n",
        "\n",
        "# Split the audio into segments\n",
        "num_segments = len(original_audio) // segment_duration\n",
        "for i in range(num_segments):\n",
        "    start_time = i * segment_duration\n",
        "    end_time = (i + 1) * segment_duration\n",
        "    audio_segment = original_audio[start_time:end_time]\n",
        "\n",
        "    # Save each segment to the 'Bhimplasi outsource' directory\n",
        "    segment_filename = os.path.join(\"/content/drive/MyDrive/5sectrained/Durga\", f\"segment_{i+720}.wav\") #durga\n",
        "    audio_segment.export(segment_filename, format=\"wav\")\n",
        "\n",
        "# Print the number of segments\n",
        "print(f\"Number of segments generated: {num_segments}\")\n",
        "\n",
        "\n",
        "\n"
      ],
      "metadata": {
        "colab": {
          "base_uri": "https://localhost:8080/"
        },
        "id": "U5QawQXW1VHB",
        "outputId": "08e33510-f794-443a-8bc5-4795cdac0fe5"
      },
      "execution_count": 34,
      "outputs": [
        {
          "output_type": "stream",
          "name": "stdout",
          "text": [
            "Number of segments generated: 360\n"
          ]
        }
      ]
    },
    {
      "cell_type": "code",
      "source": [
        "\n",
        "#durga4\n",
        "# Load the audio file\n",
        "raga = \"/content/drive/MyDrive/normalized_30min_seg/Durga/Raga Durga (Vilambit and Drut Bandish).mp3_segment_0.mp3\" #bhimsen1\n",
        "y, sr = librosa.load(raga)\n",
        "\n",
        "# Change the pitch from D# to C#\n",
        "new_y = librosa.effects.pitch_shift(y, sr=sr, n_steps=-2)\n",
        "\n",
        "# Save the converted audio file\n",
        "sf.write(\"converted.wav\", new_y, sr)\n",
        "\n",
        "original_audio = AudioSegment.from_file(\"converted.wav\")\n",
        "\n",
        "# Define the duration of each segment (5 seconds)\n",
        "segment_duration = 5 * 1000\n",
        "\n",
        "\n",
        "\n",
        "# Split the audio into segments\n",
        "num_segments = len(original_audio) // segment_duration\n",
        "for i in range(num_segments):\n",
        "    start_time = i * segment_duration\n",
        "    end_time = (i + 1) * segment_duration\n",
        "    audio_segment = original_audio[start_time:end_time]\n",
        "\n",
        "    # Save each segment to the 'Bhimplasi outsource' directory\n",
        "    segment_filename = os.path.join(\"/content/drive/MyDrive/5sectrained/Durga\", f\"segment_{i+1080}.wav\") #durga\n",
        "    audio_segment.export(segment_filename, format=\"wav\")\n",
        "\n",
        "# Print the number of segments\n",
        "print(f\"Number of segments generated: {num_segments}\")\n",
        "\n",
        "\n",
        "\n"
      ],
      "metadata": {
        "colab": {
          "base_uri": "https://localhost:8080/"
        },
        "id": "TZ69jSdG1hTq",
        "outputId": "f994d5c0-d853-475c-dca2-529244f6801b"
      },
      "execution_count": 35,
      "outputs": [
        {
          "output_type": "stream",
          "name": "stdout",
          "text": [
            "Number of segments generated: 360\n"
          ]
        }
      ]
    },
    {
      "cell_type": "code",
      "source": [
        "\n",
        "#durga5\n",
        "# Load the audio file\n",
        "raga = \"/content/drive/MyDrive/normalized_30min_seg/Durga/Pandit Bhimsen Joshi - Raag Durga.mp3_segment_0.mp3\" #bhimsen2\n",
        "y, sr = librosa.load(raga)\n",
        "\n",
        "# Change the pitch from D# to C#\n",
        "new_y = librosa.effects.pitch_shift(y, sr=sr, n_steps=-2)\n",
        "\n",
        "# Save the converted audio file\n",
        "sf.write(\"converted.wav\", new_y, sr)\n",
        "\n",
        "original_audio = AudioSegment.from_file(\"converted.wav\")\n",
        "\n",
        "# Define the duration of each segment (5 seconds)\n",
        "segment_duration = 5 * 1000\n",
        "\n",
        "\n",
        "\n",
        "# Split the audio into segments\n",
        "num_segments = len(original_audio) // segment_duration\n",
        "for i in range(num_segments):\n",
        "    start_time = i * segment_duration\n",
        "    end_time = (i + 1) * segment_duration\n",
        "    audio_segment = original_audio[start_time:end_time]\n",
        "\n",
        "    # Save each segment to the 'Bhimplasi outsource' directory\n",
        "    segment_filename = os.path.join(\"/content/drive/MyDrive/5sectrained/Durga\", f\"segment_{i+1440}.wav\") #durga\n",
        "    audio_segment.export(segment_filename, format=\"wav\")\n",
        "\n",
        "# Print the number of segments\n",
        "print(f\"Number of segments generated: {num_segments}\")\n",
        "\n",
        "\n",
        "\n"
      ],
      "metadata": {
        "colab": {
          "base_uri": "https://localhost:8080/"
        },
        "id": "qYI21LbZ2HEy",
        "outputId": "2ac8899e-886a-427b-ab03-7b032d5e9d38"
      },
      "execution_count": 36,
      "outputs": [
        {
          "output_type": "stream",
          "name": "stdout",
          "text": [
            "Number of segments generated: 360\n"
          ]
        }
      ]
    },
    {
      "cell_type": "code",
      "source": [
        "\n",
        "#Bhairav1\n",
        "# Load the audio file\n",
        "raga = \"/content/drive/MyDrive/normalized_30min_seg/Bhairav/Raga Bhairav - Ustad Rashid Khan.mp3_segment_0.mp3\" #rashid\n",
        "y, sr = librosa.load(raga)\n",
        "\n",
        "# Change the pitch from D to C#\n",
        "new_y = librosa.effects.pitch_shift(y, sr=sr, n_steps=-1)\n",
        "\n",
        "# Save the converted audio file\n",
        "sf.write(\"converted.wav\", new_y, sr)\n",
        "\n",
        "original_audio = AudioSegment.from_file(\"converted.wav\")\n",
        "\n",
        "# Define the duration of each segment (5 seconds)\n",
        "segment_duration = 5 * 1000\n",
        "\n",
        "\n",
        "\n",
        "# Split the audio into segments\n",
        "num_segments = len(original_audio) // segment_duration\n",
        "for i in range(num_segments):\n",
        "    start_time = i * segment_duration\n",
        "    end_time = (i + 1) * segment_duration\n",
        "    audio_segment = original_audio[start_time:end_time]\n",
        "\n",
        "    # Save each segment to the 'Bhimplasi outsource' directory\n",
        "    segment_filename = os.path.join(\"/content/drive/MyDrive/5sectrained/Bhairav\", f\"segment_{i}.wav\") #bhairav\n",
        "    audio_segment.export(segment_filename, format=\"wav\")\n",
        "\n",
        "# Print the number of segments\n",
        "print(f\"Number of segments generated: {num_segments}\")\n",
        "\n",
        "\n",
        "\n"
      ],
      "metadata": {
        "colab": {
          "base_uri": "https://localhost:8080/"
        },
        "id": "kgMswM5G2yy4",
        "outputId": "72f66bf7-9746-4229-ad5f-3726009e6b28"
      },
      "execution_count": 37,
      "outputs": [
        {
          "output_type": "stream",
          "name": "stdout",
          "text": [
            "Number of segments generated: 360\n"
          ]
        }
      ]
    },
    {
      "cell_type": "code",
      "source": [
        "\n",
        "#Bhairav2\n",
        "# Load the audio file\n",
        "raga = \"/content/drive/MyDrive/normalized_30min_seg/Bhairav/Raga Bhairav  Album_ Lifestory Of A Legend, Bhimsen Joshi  Music Today.mp3_segment_0.mp3\" #bhimsen\n",
        "y, sr = librosa.load(raga)\n",
        "\n",
        "# Change the pitch from D to C#\n",
        "new_y = librosa.effects.pitch_shift(y, sr=sr, n_steps=-1)\n",
        "\n",
        "# Save the converted audio file\n",
        "sf.write(\"converted.wav\", new_y, sr)\n",
        "\n",
        "original_audio = AudioSegment.from_file(\"converted.wav\")\n",
        "\n",
        "# Define the duration of each segment (5 seconds)\n",
        "segment_duration = 5 * 1000\n",
        "\n",
        "\n",
        "\n",
        "# Split the audio into segments\n",
        "num_segments = len(original_audio) // segment_duration\n",
        "for i in range(num_segments):\n",
        "    start_time = i * segment_duration\n",
        "    end_time = (i + 1) * segment_duration\n",
        "    audio_segment = original_audio[start_time:end_time]\n",
        "\n",
        "    # Save each segment to the 'Bhimplasi outsource' directory\n",
        "    segment_filename = os.path.join(\"/content/drive/MyDrive/5sectrained/Bhairav\", f\"segment_{i+360}.wav\") #bhairav\n",
        "    audio_segment.export(segment_filename, format=\"wav\")\n",
        "\n",
        "# Print the number of segments\n",
        "print(f\"Number of segments generated: {num_segments}\")\n",
        "\n",
        "\n",
        "\n"
      ],
      "metadata": {
        "colab": {
          "base_uri": "https://localhost:8080/"
        },
        "id": "5pxNo1um3QEm",
        "outputId": "c33c8bce-f2cc-4978-d245-66a969d617a3"
      },
      "execution_count": 38,
      "outputs": [
        {
          "output_type": "stream",
          "name": "stdout",
          "text": [
            "Number of segments generated: 360\n"
          ]
        }
      ]
    },
    {
      "cell_type": "code",
      "source": [
        "\n",
        "#Bhairav3\n",
        "# Load the audio file\n",
        "raga = \"/content/drive/MyDrive/normalized_30min_seg/Bhairav/Raag Bhairav by Padmashri Pandit Venkatesh Kumar.mp3_segment_0.mp3\" #venkatesh\n",
        "y, sr = librosa.load(raga)\n",
        "\n",
        "# Change the pitch from D# to C#\n",
        "new_y = librosa.effects.pitch_shift(y, sr=sr, n_steps=-2)\n",
        "\n",
        "# Save the converted audio file\n",
        "sf.write(\"converted.wav\", new_y, sr)\n",
        "\n",
        "original_audio = AudioSegment.from_file(\"converted.wav\")\n",
        "\n",
        "# Define the duration of each segment (5 seconds)\n",
        "segment_duration = 5 * 1000\n",
        "\n",
        "\n",
        "\n",
        "# Split the audio into segments\n",
        "num_segments = len(original_audio) // segment_duration\n",
        "for i in range(num_segments):\n",
        "    start_time = i * segment_duration\n",
        "    end_time = (i + 1) * segment_duration\n",
        "    audio_segment = original_audio[start_time:end_time]\n",
        "\n",
        "    # Save each segment to the 'Bhimplasi outsource' directory\n",
        "    segment_filename = os.path.join(\"/content/drive/MyDrive/5sectrained/Bhairav\", f\"segment_{i+720}.wav\") #bhairav\n",
        "    audio_segment.export(segment_filename, format=\"wav\")\n",
        "\n",
        "# Print the number of segments\n",
        "print(f\"Number of segments generated: {num_segments}\")\n",
        "\n",
        "\n",
        "\n"
      ],
      "metadata": {
        "colab": {
          "base_uri": "https://localhost:8080/"
        },
        "id": "_1Qw8aZ-3Yre",
        "outputId": "f693ed18-e7df-49f7-f87e-63399e29f26b"
      },
      "execution_count": 39,
      "outputs": [
        {
          "output_type": "stream",
          "name": "stdout",
          "text": [
            "Number of segments generated: 360\n"
          ]
        }
      ]
    },
    {
      "cell_type": "code",
      "source": [
        "\n",
        "#Bhairav4\n",
        "# Load the audio file\n",
        "raga = \"/content/drive/MyDrive/normalized_30min_seg/Bhairav/Uday Bhawalkar_ Raag Bhairav.mp3_segment_0.mp3\" #uday1\n",
        "y, sr = librosa.load(raga)\n",
        "\n",
        "# Change the pitch from C# to C#\n",
        "new_y = librosa.effects.pitch_shift(y, sr=sr, n_steps=0)\n",
        "\n",
        "# Save the converted audio file\n",
        "sf.write(\"converted.wav\", new_y, sr)\n",
        "\n",
        "original_audio = AudioSegment.from_file(\"converted.wav\")\n",
        "\n",
        "# Define the duration of each segment (5 seconds)\n",
        "segment_duration = 5 * 1000\n",
        "\n",
        "\n",
        "\n",
        "# Split the audio into segments\n",
        "num_segments = len(original_audio) // segment_duration\n",
        "for i in range(num_segments):\n",
        "    start_time = i * segment_duration\n",
        "    end_time = (i + 1) * segment_duration\n",
        "    audio_segment = original_audio[start_time:end_time]\n",
        "\n",
        "    # Save each segment to the 'Bhimplasi outsource' directory\n",
        "    segment_filename = os.path.join(\"/content/drive/MyDrive/5sectrained/Bhairav\", f\"segment_{i+1080}.wav\") #bhairav\n",
        "    audio_segment.export(segment_filename, format=\"wav\")\n",
        "\n",
        "# Print the number of segments\n",
        "print(f\"Number of segments generated: {num_segments}\")\n",
        "\n",
        "\n",
        "\n"
      ],
      "metadata": {
        "colab": {
          "base_uri": "https://localhost:8080/"
        },
        "id": "9hKYjA-h3tIN",
        "outputId": "f4dae603-e3b2-48de-b03b-b26ad15dedf6"
      },
      "execution_count": 40,
      "outputs": [
        {
          "output_type": "stream",
          "name": "stdout",
          "text": [
            "Number of segments generated: 360\n"
          ]
        }
      ]
    },
    {
      "cell_type": "code",
      "source": [
        "\n",
        "#Bhairav5\n",
        "# Load the audio file\n",
        "raga = \"/content/drive/MyDrive/normalized_30min_seg/Bhairav/Uday Bhawalkar_ Raag Bhairav.mp3_segment_1.mp3\" #uday2\n",
        "y, sr = librosa.load(raga)\n",
        "\n",
        "# Change the pitch from D# to C#\n",
        "new_y = librosa.effects.pitch_shift(y, sr=sr, n_steps=0)\n",
        "\n",
        "# Save the converted audio file\n",
        "sf.write(\"converted.wav\", new_y, sr)\n",
        "\n",
        "original_audio = AudioSegment.from_file(\"converted.wav\")\n",
        "\n",
        "# Define the duration of each segment (5 seconds)\n",
        "segment_duration = 5 * 1000\n",
        "\n",
        "\n",
        "\n",
        "# Split the audio into segments\n",
        "num_segments = len(original_audio) // segment_duration\n",
        "for i in range(num_segments):\n",
        "    start_time = i * segment_duration\n",
        "    end_time = (i + 1) * segment_duration\n",
        "    audio_segment = original_audio[start_time:end_time]\n",
        "\n",
        "\n",
        "    segment_filename = os.path.join(\"/content/drive/MyDrive/5sectrained/Bhairav\", f\"segment_{i+1440}.wav\") #bhairav\n",
        "    audio_segment.export(segment_filename, format=\"wav\")\n",
        "\n",
        "# Print the number of segments\n",
        "print(f\"Number of segments generated: {num_segments}\")\n",
        "\n",
        "\n",
        "\n"
      ],
      "metadata": {
        "colab": {
          "base_uri": "https://localhost:8080/"
        },
        "id": "egYPahl03yg7",
        "outputId": "dc2b4892-ad93-46ac-94b8-8574f09d373f"
      },
      "execution_count": 41,
      "outputs": [
        {
          "output_type": "stream",
          "name": "stdout",
          "text": [
            "Number of segments generated: 360\n"
          ]
        }
      ]
    },
    {
      "cell_type": "code",
      "source": [
        "\n",
        "#Bhairavi1\n",
        "# Load the audio file\n",
        "raga = \"/content/drive/MyDrive/normalized_30min_seg/Bhairavi/Bhairavi - 1 Hour with Pandit Ajoy Chakraborty  Sagarika Classical (1).mp3_segment_0.mp3\" #ajoy1.1\n",
        "y, sr = librosa.load(raga)\n",
        "\n",
        "# Change the pitch from C# to C#\n",
        "new_y = librosa.effects.pitch_shift(y, sr=sr, n_steps=0)\n",
        "\n",
        "# Save the converted audio file\n",
        "sf.write(\"converted.wav\", new_y, sr)\n",
        "\n",
        "original_audio = AudioSegment.from_file(\"converted.wav\")\n",
        "\n",
        "# Define the duration of each segment (5 seconds)\n",
        "segment_duration = 5 * 1000\n",
        "\n",
        "\n",
        "\n",
        "# Split the audio into segments\n",
        "num_segments = len(original_audio) // segment_duration\n",
        "for i in range(num_segments):\n",
        "    start_time = i * segment_duration\n",
        "    end_time = (i + 1) * segment_duration\n",
        "    audio_segment = original_audio[start_time:end_time]\n",
        "\n",
        "\n",
        "    segment_filename = os.path.join(\"/content/drive/MyDrive/5sectrained/Bhairavi\", f\"segment_{i}.wav\") #bhairavi\n",
        "    audio_segment.export(segment_filename, format=\"wav\")\n",
        "\n",
        "# Print the number of segments\n",
        "print(f\"Number of segments generated: {num_segments}\")\n",
        "\n",
        "\n",
        "\n"
      ],
      "metadata": {
        "colab": {
          "base_uri": "https://localhost:8080/"
        },
        "id": "WozjNSHdImWk",
        "outputId": "15ea08a2-422e-409d-9204-31d08ecf208d"
      },
      "execution_count": 44,
      "outputs": [
        {
          "output_type": "stream",
          "name": "stdout",
          "text": [
            "Number of segments generated: 360\n"
          ]
        }
      ]
    },
    {
      "cell_type": "code",
      "source": [
        "\n",
        "#Bhairavi2\n",
        "# Load the audio file\n",
        "raga = \"/content/drive/MyDrive/normalized_30min_seg/Bhairavi/Bhairavi - 1 Hour with Pandit Ajoy Chakraborty  Sagarika Classical (1).mp3_segment_1.mp3\" #ajoy1.2\n",
        "y, sr = librosa.load(raga)\n",
        "\n",
        "# Change the pitch from C# to C#\n",
        "new_y = librosa.effects.pitch_shift(y, sr=sr, n_steps=0)\n",
        "\n",
        "# Save the converted audio file\n",
        "sf.write(\"converted.wav\", new_y, sr)\n",
        "\n",
        "original_audio = AudioSegment.from_file(\"converted.wav\")\n",
        "\n",
        "# Define the duration of each segment (5 seconds)\n",
        "segment_duration = 5 * 1000\n",
        "\n",
        "\n",
        "\n",
        "# Split the audio into segments\n",
        "num_segments = len(original_audio) // segment_duration\n",
        "for i in range(num_segments):\n",
        "    start_time = i * segment_duration\n",
        "    end_time = (i + 1) * segment_duration\n",
        "    audio_segment = original_audio[start_time:end_time]\n",
        "\n",
        "\n",
        "    segment_filename = os.path.join(\"/content/drive/MyDrive/5sectrained/Bhairavi\", f\"segment_{i+360}.wav\") #bhairavi\n",
        "    audio_segment.export(segment_filename, format=\"wav\")\n",
        "\n",
        "# Print the number of segments\n",
        "print(f\"Number of segments generated: {num_segments}\")\n",
        "\n",
        "\n",
        "\n"
      ],
      "metadata": {
        "colab": {
          "base_uri": "https://localhost:8080/"
        },
        "id": "I5tUsEIz4nEy",
        "outputId": "5d8ab3dc-efd7-43b4-bfcf-072c6b7ae7cd"
      },
      "execution_count": 45,
      "outputs": [
        {
          "output_type": "stream",
          "name": "stdout",
          "text": [
            "Number of segments generated: 360\n"
          ]
        }
      ]
    },
    {
      "cell_type": "code",
      "source": [
        "\n",
        "#Bhairavi3\n",
        "# Load the audio file\n",
        "raga = \"/content/drive/MyDrive/normalized_30min_seg/Bhairavi/Pandit Ajoy Chakraborty - Bhairavi  Live ITC SRA 2019.mp3_segment_0.mp3\" #ajoy2.1\n",
        "y, sr = librosa.load(raga)\n",
        "\n",
        "# Change the pitch from C# to C#\n",
        "new_y = librosa.effects.pitch_shift(y, sr=sr, n_steps=0)\n",
        "\n",
        "# Save the converted audio file\n",
        "sf.write(\"converted.wav\", new_y, sr)\n",
        "\n",
        "original_audio = AudioSegment.from_file(\"converted.wav\")\n",
        "\n",
        "# Define the duration of each segment (5 seconds)\n",
        "segment_duration = 5 * 1000\n",
        "\n",
        "\n",
        "\n",
        "# Split the audio into segments\n",
        "num_segments = len(original_audio) // segment_duration\n",
        "for i in range(num_segments):\n",
        "    start_time = i * segment_duration\n",
        "    end_time = (i + 1) * segment_duration\n",
        "    audio_segment = original_audio[start_time:end_time]\n",
        "\n",
        "\n",
        "    segment_filename = os.path.join(\"/content/drive/MyDrive/5sectrained/Bhairavi\", f\"segment_{i+720}.wav\") #bhairavi\n",
        "    audio_segment.export(segment_filename, format=\"wav\")\n",
        "\n",
        "# Print the number of segments\n",
        "print(f\"Number of segments generated: {num_segments}\")\n",
        "\n",
        "\n",
        "\n"
      ],
      "metadata": {
        "colab": {
          "base_uri": "https://localhost:8080/"
        },
        "id": "Tr7LF69o5Oc7",
        "outputId": "989efe1a-c57e-49b3-ce2f-2e69dcbf6218"
      },
      "execution_count": 46,
      "outputs": [
        {
          "output_type": "stream",
          "name": "stdout",
          "text": [
            "Number of segments generated: 360\n"
          ]
        }
      ]
    },
    {
      "cell_type": "code",
      "source": [
        "\n",
        "#Bhairavi4\n",
        "# Load the audio file\n",
        "raga = \"/content/drive/MyDrive/normalized_30min_seg/Bhairavi/Pandit Ajoy Chakraborty - Bhairavi  Live ITC SRA 2019.mp3_segment_1.mp3\" #ajoy2.2\n",
        "y, sr = librosa.load(raga)\n",
        "\n",
        "# Change the pitch from C# to C#\n",
        "new_y = librosa.effects.pitch_shift(y, sr=sr, n_steps=0)\n",
        "\n",
        "# Save the converted audio file\n",
        "sf.write(\"converted.wav\", new_y, sr)\n",
        "\n",
        "original_audio = AudioSegment.from_file(\"converted.wav\")\n",
        "\n",
        "# Define the duration of each segment (5 seconds)\n",
        "segment_duration = 5 * 1000\n",
        "\n",
        "\n",
        "\n",
        "# Split the audio into segments\n",
        "num_segments = len(original_audio) // segment_duration\n",
        "for i in range(num_segments):\n",
        "    start_time = i * segment_duration\n",
        "    end_time = (i + 1) * segment_duration\n",
        "    audio_segment = original_audio[start_time:end_time]\n",
        "\n",
        "\n",
        "    segment_filename = os.path.join(\"/content/drive/MyDrive/5sectrained/Bhairavi\", f\"segment_{i+1080}.wav\") #bhairavi\n",
        "    audio_segment.export(segment_filename, format=\"wav\")\n",
        "\n",
        "# Print the number of segments\n",
        "print(f\"Number of segments generated: {num_segments}\")\n",
        "\n",
        "\n",
        "\n"
      ],
      "metadata": {
        "colab": {
          "base_uri": "https://localhost:8080/"
        },
        "id": "s8NE_lkk5Rel",
        "outputId": "7e45ea62-1ca5-42ab-bff4-50ec5fb0608f"
      },
      "execution_count": 47,
      "outputs": [
        {
          "output_type": "stream",
          "name": "stdout",
          "text": [
            "Number of segments generated: 360\n"
          ]
        }
      ]
    },
    {
      "cell_type": "code",
      "source": [
        "\n",
        "#Bhairavi5\n",
        "# Load the audio file\n",
        "raga = \"/content/drive/MyDrive/normalized_30min_seg/Bhairavi/Raag Bhairavi- I.mp3_segment_0.mp3\" #anuradha\n",
        "y, sr = librosa.load(raga)\n",
        "\n",
        "# Change the pitch from A# to C#\n",
        "new_y = librosa.effects.pitch_shift(y, sr=sr, n_steps=3)\n",
        "\n",
        "# Save the converted audio file\n",
        "sf.write(\"converted.wav\", new_y, sr)\n",
        "\n",
        "original_audio = AudioSegment.from_file(\"converted.wav\")\n",
        "\n",
        "# Define the duration of each segment (5 seconds)\n",
        "segment_duration = 5 * 1000\n",
        "\n",
        "\n",
        "\n",
        "# Split the audio into segments\n",
        "num_segments = len(original_audio) // segment_duration\n",
        "for i in range(num_segments):\n",
        "    start_time = i * segment_duration\n",
        "    end_time = (i + 1) * segment_duration\n",
        "    audio_segment = original_audio[start_time:end_time]\n",
        "\n",
        "\n",
        "    segment_filename = os.path.join(\"/content/drive/MyDrive/5sectrained/Bhairavi\", f\"segment_{i+1440}.wav\") #bhairavi\n",
        "    audio_segment.export(segment_filename, format=\"wav\")\n",
        "\n",
        "# Print the number of segments\n",
        "print(f\"Number of segments generated: {num_segments}\")\n",
        "\n",
        "\n",
        "\n"
      ],
      "metadata": {
        "colab": {
          "base_uri": "https://localhost:8080/"
        },
        "id": "o03qpGNG5Zz_",
        "outputId": "d65248bb-f580-44dc-9f92-056f6b4a3998"
      },
      "execution_count": 48,
      "outputs": [
        {
          "output_type": "stream",
          "name": "stdout",
          "text": [
            "Number of segments generated: 360\n"
          ]
        }
      ]
    },
    {
      "cell_type": "code",
      "source": [
        "\n",
        "#Asavari1\n",
        "# Load the audio file\n",
        "raga = \"/content/drive/MyDrive/normalized_30min_seg/Asavari/Ustad Amir Khan - Raag Asavari.mp3_segment_0.mp3\" #Rashid\n",
        "y, sr = librosa.load(raga)\n",
        "\n",
        "# Change the pitch from C# to C#\n",
        "new_y = librosa.effects.pitch_shift(y, sr=sr, n_steps=0)\n",
        "\n",
        "# Save the converted audio file\n",
        "sf.write(\"converted.wav\", new_y, sr)\n",
        "\n",
        "original_audio = AudioSegment.from_file(\"converted.wav\")\n",
        "\n",
        "# Define the duration of each segment (5 seconds)\n",
        "segment_duration = 5 * 1000\n",
        "\n",
        "\n",
        "\n",
        "# Split the audio into segments\n",
        "num_segments = len(original_audio) // segment_duration\n",
        "for i in range(num_segments):\n",
        "    start_time = i * segment_duration\n",
        "    end_time = (i + 1) * segment_duration\n",
        "    audio_segment = original_audio[start_time:end_time]\n",
        "\n",
        "\n",
        "    segment_filename = os.path.join(\"/content/drive/MyDrive/5sectrained/Asavari\", f\"segment_{i}.wav\") #asawari\n",
        "    audio_segment.export(segment_filename, format=\"wav\")\n",
        "\n",
        "# Print the number of segments\n",
        "print(f\"Number of segments generated: {num_segments}\")\n",
        "\n",
        "\n",
        "\n"
      ],
      "metadata": {
        "colab": {
          "base_uri": "https://localhost:8080/"
        },
        "id": "9yFUNSY85hwa",
        "outputId": "c01ee42f-54f9-48dc-bdff-e37eb9d9f66a"
      },
      "execution_count": 49,
      "outputs": [
        {
          "output_type": "stream",
          "name": "stdout",
          "text": [
            "Number of segments generated: 360\n"
          ]
        }
      ]
    },
    {
      "cell_type": "code",
      "source": [
        "\n",
        "#Asavari2\n",
        "# Load the audio file\n",
        "raga = \"/content/drive/MyDrive/normalized_30min_seg/Asavari/Raga Asawari By Ustad Amir Khan.mp3_segment_0.mp3\" #Amir\n",
        "y, sr = librosa.load(raga)\n",
        "\n",
        "# Change the pitch from C# to C#\n",
        "new_y = librosa.effects.pitch_shift(y, sr=sr, n_steps=0)\n",
        "\n",
        "# Save the converted audio file\n",
        "sf.write(\"converted.wav\", new_y, sr)\n",
        "\n",
        "original_audio = AudioSegment.from_file(\"converted.wav\")\n",
        "\n",
        "# Define the duration of each segment (5 seconds)\n",
        "segment_duration = 5 * 1000\n",
        "\n",
        "\n",
        "\n",
        "# Split the audio into segments\n",
        "num_segments = len(original_audio) // segment_duration\n",
        "for i in range(num_segments):\n",
        "    start_time = i * segment_duration\n",
        "    end_time = (i + 1) * segment_duration\n",
        "    audio_segment = original_audio[start_time:end_time]\n",
        "\n",
        "\n",
        "    segment_filename = os.path.join(\"/content/drive/MyDrive/5sectrained/Asavari\", f\"segment_{i+360}.wav\") #asawari\n",
        "    audio_segment.export(segment_filename, format=\"wav\")\n",
        "\n",
        "# Print the number of segments\n",
        "print(f\"Number of segments generated: {num_segments}\")\n",
        "\n",
        "\n",
        "\n"
      ],
      "metadata": {
        "colab": {
          "base_uri": "https://localhost:8080/"
        },
        "id": "g9ScXgYT59dY",
        "outputId": "769132f2-5a40-41c3-feeb-d9521c8577de"
      },
      "execution_count": 50,
      "outputs": [
        {
          "output_type": "stream",
          "name": "stdout",
          "text": [
            "Number of segments generated: 360\n"
          ]
        }
      ]
    },
    {
      "cell_type": "code",
      "source": [
        "\n",
        "#Asavari3\n",
        "# Load the audio file\n",
        "raga = \"/content/drive/MyDrive/normalized_30min_seg/Asavari/Omkarnath Thakur Raga Asavari.mp3_segment_0.mp3\" #omkarnath\n",
        "y, sr = librosa.load(raga)\n",
        "\n",
        "# Change the pitch from F to C#\n",
        "new_y = librosa.effects.pitch_shift(y, sr=sr, n_steps=-4)\n",
        "\n",
        "# Save the converted audio file\n",
        "sf.write(\"converted.wav\", new_y, sr)\n",
        "\n",
        "original_audio = AudioSegment.from_file(\"converted.wav\")\n",
        "\n",
        "# Define the duration of each segment (5 seconds)\n",
        "segment_duration = 5 * 1000\n",
        "\n",
        "\n",
        "\n",
        "# Split the audio into segments\n",
        "num_segments = len(original_audio) // segment_duration\n",
        "for i in range(num_segments):\n",
        "    start_time = i * segment_duration\n",
        "    end_time = (i + 1) * segment_duration\n",
        "    audio_segment = original_audio[start_time:end_time]\n",
        "\n",
        "\n",
        "    segment_filename = os.path.join(\"/content/drive/MyDrive/5sectrained/Asavari\", f\"segment_{i+720}.wav\") #asawari\n",
        "    audio_segment.export(segment_filename, format=\"wav\")\n",
        "\n",
        "# Print the number of segments\n",
        "print(f\"Number of segments generated: {num_segments}\")\n",
        "\n",
        "\n",
        "\n"
      ],
      "metadata": {
        "colab": {
          "base_uri": "https://localhost:8080/"
        },
        "id": "8roAaXkK6Tnp",
        "outputId": "108c56bf-9ec2-4159-ec20-f9fea5201a06"
      },
      "execution_count": 51,
      "outputs": [
        {
          "output_type": "stream",
          "name": "stdout",
          "text": [
            "Number of segments generated: 360\n"
          ]
        }
      ]
    },
    {
      "cell_type": "code",
      "source": [
        "\n",
        "#Asavari4\n",
        "# Load the audio file\n",
        "raga = \"/content/drive/MyDrive/normalized_30min_seg/Asavari/Raga _ Asavari  - Smt. Manjiri Alegaonkar.mp3_segment_0.mp3\" #manjiri\n",
        "y, sr = librosa.load(raga)\n",
        "\n",
        "# Change the pitch from B to C#\n",
        "new_y = librosa.effects.pitch_shift(y, sr=sr, n_steps=2)\n",
        "\n",
        "# Save the converted audio file\n",
        "sf.write(\"converted.wav\", new_y, sr)\n",
        "\n",
        "original_audio = AudioSegment.from_file(\"converted.wav\")\n",
        "\n",
        "# Define the duration of each segment (5 seconds)\n",
        "segment_duration = 5 * 1000\n",
        "\n",
        "\n",
        "\n",
        "# Split the audio into segments\n",
        "num_segments = len(original_audio) // segment_duration\n",
        "for i in range(num_segments):\n",
        "    start_time = i * segment_duration\n",
        "    end_time = (i + 1) * segment_duration\n",
        "    audio_segment = original_audio[start_time:end_time]\n",
        "\n",
        "\n",
        "    segment_filename = os.path.join(\"/content/drive/MyDrive/5sectrained/Asavari\", f\"segment_{i+1080}.wav\") #asawari\n",
        "    audio_segment.export(segment_filename, format=\"wav\")\n",
        "\n",
        "# Print the number of segments\n",
        "print(f\"Number of segments generated: {num_segments}\")\n",
        "\n",
        "\n",
        "\n"
      ],
      "metadata": {
        "colab": {
          "base_uri": "https://localhost:8080/"
        },
        "id": "7GYJJC3c6kd8",
        "outputId": "d2c53776-b2ff-420f-d757-4c37df6d3441"
      },
      "execution_count": 52,
      "outputs": [
        {
          "output_type": "stream",
          "name": "stdout",
          "text": [
            "Number of segments generated: 360\n"
          ]
        }
      ]
    },
    {
      "cell_type": "code",
      "source": [
        "\n",
        "#Asavari5\n",
        "# Load the audio file\n",
        "raga = \"/content/drive/MyDrive/normalized_30min_seg/Asavari/Raag Jaunpuri - Vidushi Smt Veena Sahasrabuddhe - 051.mp3_segment_0.mp3\" #veena\n",
        "y, sr = librosa.load(raga)\n",
        "\n",
        "# Change the pitch from Ato C#\n",
        "new_y = librosa.effects.pitch_shift(y, sr=sr, n_steps=4)\n",
        "\n",
        "# Save the converted audio file\n",
        "sf.write(\"converted.wav\", new_y, sr)\n",
        "\n",
        "original_audio = AudioSegment.from_file(\"converted.wav\")\n",
        "\n",
        "# Define the duration of each segment (5 seconds)\n",
        "segment_duration = 5 * 1000\n",
        "\n",
        "\n",
        "\n",
        "# Split the audio into segments\n",
        "num_segments = len(original_audio) // segment_duration\n",
        "for i in range(num_segments):\n",
        "    start_time = i * segment_duration\n",
        "    end_time = (i + 1) * segment_duration\n",
        "    audio_segment = original_audio[start_time:end_time]\n",
        "\n",
        "\n",
        "    segment_filename = os.path.join(\"/content/drive/MyDrive/5sectrained/Asavari\", f\"segment_{i+1440}.wav\") #asawari\n",
        "    audio_segment.export(segment_filename, format=\"wav\")\n",
        "\n",
        "# Print the number of segments\n",
        "print(f\"Number of segments generated: {num_segments}\")\n",
        "\n",
        "\n",
        "\n"
      ],
      "metadata": {
        "colab": {
          "base_uri": "https://localhost:8080/"
        },
        "id": "ryqt9vc560DM",
        "outputId": "59809afa-dd56-4197-e199-f40f17d60670"
      },
      "execution_count": 53,
      "outputs": [
        {
          "output_type": "stream",
          "name": "stdout",
          "text": [
            "Number of segments generated: 360\n"
          ]
        }
      ]
    },
    {
      "cell_type": "code",
      "source": [
        "#bhimplasi1\n",
        "\n",
        "# Load the audio file\n",
        "raga = \"/content/drive/MyDrive/normalized_30min_seg/Bhimplasi/Surel  Sabha Pt. Venkatesh Kumar Raag Bhimpalasi , Performed on 8th July 2018.mp3_segment_0.mp3\" #venkatesh\n",
        "y, sr = librosa.load(raga)\n",
        "\n",
        "# Change the pitch from D# to C#\n",
        "new_y = librosa.effects.pitch_shift(y, sr=sr, n_steps=-2)\n",
        "\n",
        "# Save the converted audio file\n",
        "sf.write(\"converted.wav\", new_y, sr)\n",
        "\n",
        "original_audio = AudioSegment.from_file(\"converted.wav\")\n",
        "\n",
        "# Define the duration of each segment (5 seconds)\n",
        "segment_duration = 5 * 1000\n",
        "\n",
        "\n",
        "\n",
        "# Split the audio into segments\n",
        "num_segments = len(original_audio) // segment_duration\n",
        "for i in range(num_segments):\n",
        "    start_time = i * segment_duration\n",
        "    end_time = (i + 1) * segment_duration\n",
        "    audio_segment = original_audio[start_time:end_time]\n",
        "\n",
        "\n",
        "    segment_filename = os.path.join(\"/content/drive/MyDrive/5sectrained/Bhimplasi\", f\"segment_{i}.wav\") #bhimplasi\n",
        "    audio_segment.export(segment_filename, format=\"wav\")\n",
        "\n",
        "# Print the number of segments\n",
        "print(f\"Number of segments generated: {num_segments}\")\n",
        "\n",
        "\n",
        "\n"
      ],
      "metadata": {
        "colab": {
          "base_uri": "https://localhost:8080/"
        },
        "id": "1clKbt2D7E6T",
        "outputId": "616159fc-679c-438c-b868-005ab6a97d29"
      },
      "execution_count": 54,
      "outputs": [
        {
          "output_type": "stream",
          "name": "stdout",
          "text": [
            "Number of segments generated: 360\n"
          ]
        }
      ]
    },
    {
      "cell_type": "code",
      "source": [
        "#bhimplasi2\n",
        "\n",
        "# Load the audio file\n",
        "raga = \"/content/drive/MyDrive/normalized_30min_seg/Bhimplasi/Raga Bhimpalasi - Vilambit Khyal in Teentaal Re Biraha Bamanna Shagun Bicharu Kab Ghar Ayo Mora.mp3_segment_0.mp3\" #kishori1\n",
        "y, sr = librosa.load(raga)\n",
        "\n",
        "# Change the pitch from A# to C#\n",
        "new_y = librosa.effects.pitch_shift(y, sr=sr, n_steps=3)\n",
        "\n",
        "# Save the converted audio file\n",
        "sf.write(\"converted.wav\", new_y, sr)\n",
        "\n",
        "original_audio = AudioSegment.from_file(\"converted.wav\")\n",
        "\n",
        "# Define the duration of each segment (5 seconds)\n",
        "segment_duration = 5 * 1000\n",
        "\n",
        "\n",
        "\n",
        "# Split the audio into segments\n",
        "num_segments = len(original_audio) // segment_duration\n",
        "for i in range(num_segments):\n",
        "    start_time = i * segment_duration\n",
        "    end_time = (i + 1) * segment_duration\n",
        "    audio_segment = original_audio[start_time:end_time]\n",
        "\n",
        "\n",
        "    segment_filename = os.path.join(\"/content/drive/MyDrive/5sectrained/Bhimplasi\", f\"segment_{i+360}.wav\") #bhimplasi\n",
        "    audio_segment.export(segment_filename, format=\"wav\")\n",
        "\n",
        "# Print the number of segments\n",
        "print(f\"Number of segments generated: {num_segments}\")\n",
        "\n",
        "\n",
        "\n"
      ],
      "metadata": {
        "colab": {
          "base_uri": "https://localhost:8080/"
        },
        "id": "PQHkgc317Ta7",
        "outputId": "6edcbdf4-509d-4b18-ab6c-29360c35a201"
      },
      "execution_count": 55,
      "outputs": [
        {
          "output_type": "stream",
          "name": "stdout",
          "text": [
            "Number of segments generated: 360\n"
          ]
        }
      ]
    },
    {
      "cell_type": "code",
      "source": [
        "#bhimplasi3\n",
        "\n",
        "# Load the audio file\n",
        "raga = \"/content/drive/MyDrive/normalized_30min_seg/Bhimplasi/Raga Bhimpalasi - Vilambit Khyal in Teentaal Re Biraha Bamanna Shagun Bicharu Kab Ghar Ayo Mora.mp3_segment_1.mp3\" #kishori2\n",
        "y, sr = librosa.load(raga)\n",
        "\n",
        "# Change the pitch from A# to C#\n",
        "new_y = librosa.effects.pitch_shift(y, sr=sr, n_steps=3)\n",
        "\n",
        "# Save the converted audio file\n",
        "sf.write(\"converted.wav\", new_y, sr)\n",
        "\n",
        "original_audio = AudioSegment.from_file(\"converted.wav\")\n",
        "\n",
        "# Define the duration of each segment (5 seconds)\n",
        "segment_duration = 5 * 1000\n",
        "\n",
        "\n",
        "\n",
        "# Split the audio into segments\n",
        "num_segments = len(original_audio) // segment_duration\n",
        "for i in range(num_segments):\n",
        "    start_time = i * segment_duration\n",
        "    end_time = (i + 1) * segment_duration\n",
        "    audio_segment = original_audio[start_time:end_time]\n",
        "\n",
        "\n",
        "    segment_filename = os.path.join(\"/content/drive/MyDrive/5sectrained/Bhimplasi\", f\"segment_{i+720}.wav\") #bhimplasi\n",
        "    audio_segment.export(segment_filename, format=\"wav\")\n",
        "\n",
        "# Print the number of segments\n",
        "print(f\"Number of segments generated: {num_segments}\")\n",
        "\n",
        "\n",
        "\n"
      ],
      "metadata": {
        "colab": {
          "base_uri": "https://localhost:8080/"
        },
        "id": "MmJCF6GW7b4w",
        "outputId": "b26182ae-bf38-4f22-d025-353b09bbfd17"
      },
      "execution_count": 56,
      "outputs": [
        {
          "output_type": "stream",
          "name": "stdout",
          "text": [
            "Number of segments generated: 360\n"
          ]
        }
      ]
    },
    {
      "cell_type": "code",
      "source": [
        "#bhimplasi4\n",
        "\n",
        "# Load the audio file\n",
        "raga = \"/content/drive/MyDrive/normalized_30min_seg/Bhimplasi/Ulhas Kashalkar_ Raag Bhimpalasi.mp3_segment_0.mp3\" #ulhas\n",
        "y, sr = librosa.load(raga)\n",
        "\n",
        "# Change the pitch from D# to C#\n",
        "new_y = librosa.effects.pitch_shift(y, sr=sr, n_steps=-2)\n",
        "\n",
        "# Save the converted audio file\n",
        "sf.write(\"converted.wav\", new_y, sr)\n",
        "\n",
        "original_audio = AudioSegment.from_file(\"converted.wav\")\n",
        "\n",
        "# Define the duration of each segment (5 seconds)\n",
        "segment_duration = 5 * 1000\n",
        "\n",
        "\n",
        "\n",
        "# Split the audio into segments\n",
        "num_segments = len(original_audio) // segment_duration\n",
        "for i in range(num_segments):\n",
        "    start_time = i * segment_duration\n",
        "    end_time = (i + 1) * segment_duration\n",
        "    audio_segment = original_audio[start_time:end_time]\n",
        "\n",
        "\n",
        "    segment_filename = os.path.join(\"/content/drive/MyDrive/5sectrained/Bhimplasi\", f\"segment_{i+1080}.wav\") #bhimplasi\n",
        "    audio_segment.export(segment_filename, format=\"wav\")\n",
        "\n",
        "# Print the number of segments\n",
        "print(f\"Number of segments generated: {num_segments}\")\n",
        "\n",
        "\n",
        "\n"
      ],
      "metadata": {
        "colab": {
          "base_uri": "https://localhost:8080/"
        },
        "id": "JWE9bnoX7lK2",
        "outputId": "d70af4f6-c0e7-449b-adfb-3a6deca17ef4"
      },
      "execution_count": 57,
      "outputs": [
        {
          "output_type": "stream",
          "name": "stdout",
          "text": [
            "Number of segments generated: 360\n"
          ]
        }
      ]
    },
    {
      "cell_type": "code",
      "source": [
        "#bhimplasi5\n",
        "\n",
        "# Load the audio file\n",
        "raga = \"/content/drive/MyDrive/normalized_30min_seg/Bhimplasi/Apoorva Gokhale_ Raag Bhimpalas.mp3_segment_0.mp3\" #apoorva\n",
        "y, sr = librosa.load(raga)\n",
        "\n",
        "# Change the pitch from G# to C#\n",
        "new_y = librosa.effects.pitch_shift(y, sr=sr, n_steps=5)\n",
        "\n",
        "# Save the converted audio file\n",
        "sf.write(\"converted.wav\", new_y, sr)\n",
        "\n",
        "original_audio = AudioSegment.from_file(\"converted.wav\")\n",
        "\n",
        "# Define the duration of each segment (5 seconds)\n",
        "segment_duration = 5 * 1000\n",
        "\n",
        "\n",
        "\n",
        "# Split the audio into segments\n",
        "num_segments = len(original_audio) // segment_duration\n",
        "for i in range(num_segments):\n",
        "    start_time = i * segment_duration\n",
        "    end_time = (i + 1) * segment_duration\n",
        "    audio_segment = original_audio[start_time:end_time]\n",
        "\n",
        "\n",
        "    segment_filename = os.path.join(\"/content/drive/MyDrive/5sectrained/Bhimplasi\", f\"segment_{i+1440}.wav\") #bhimplasi\n",
        "    audio_segment.export(segment_filename, format=\"wav\")\n",
        "\n",
        "# Print the number of segments\n",
        "print(f\"Number of segments generated: {num_segments}\")\n",
        "\n",
        "\n",
        "\n"
      ],
      "metadata": {
        "colab": {
          "base_uri": "https://localhost:8080/"
        },
        "id": "nNJg07Ub7tg6",
        "outputId": "a3698799-be23-4a46-8ef6-4f4825e280b2"
      },
      "execution_count": 58,
      "outputs": [
        {
          "output_type": "stream",
          "name": "stdout",
          "text": [
            "Number of segments generated: 360\n"
          ]
        }
      ]
    },
    {
      "cell_type": "code",
      "source": [
        "#bilawal1\n",
        "\n",
        "# Load the audio file\n",
        "raga = \"/content/drive/MyDrive/normalized_30min_seg/Alhaiya Bilawal/Raga Alhaiya Bilawal  Kishori Amonkar  ( Album_ Live Concert Swar Utsav 2000 )  Music Today.mp3_segment_0.mp3\" #kishori\n",
        "y, sr = librosa.load(raga)\n",
        "\n",
        "# Change the pitch from A# to C#\n",
        "new_y = librosa.effects.pitch_shift(y, sr=sr, n_steps=3)\n",
        "\n",
        "# Save the converted audio file\n",
        "sf.write(\"converted.wav\", new_y, sr)\n",
        "\n",
        "original_audio = AudioSegment.from_file(\"converted.wav\")\n",
        "\n",
        "# Define the duration of each segment (5 seconds)\n",
        "segment_duration = 5 * 1000\n",
        "\n",
        "\n",
        "\n",
        "# Split the audio into segments\n",
        "num_segments = len(original_audio) // segment_duration\n",
        "for i in range(num_segments):\n",
        "    start_time = i * segment_duration\n",
        "    end_time = (i + 1) * segment_duration\n",
        "    audio_segment = original_audio[start_time:end_time]\n",
        "\n",
        "\n",
        "    segment_filename = os.path.join(\"/content/drive/MyDrive/5sectrained/Alhaiya Bilawal\", f\"segment_{i}.wav\") #bilawal\n",
        "    audio_segment.export(segment_filename, format=\"wav\")\n",
        "\n",
        "# Print the number of segments\n",
        "print(f\"Number of segments generated: {num_segments}\")\n",
        "\n",
        "\n",
        "\n"
      ],
      "metadata": {
        "colab": {
          "base_uri": "https://localhost:8080/"
        },
        "id": "kGaAi6Vb75hH",
        "outputId": "a0baa3f2-e4b3-4979-bafc-ee94434f6943"
      },
      "execution_count": 59,
      "outputs": [
        {
          "output_type": "stream",
          "name": "stdout",
          "text": [
            "Number of segments generated: 360\n"
          ]
        }
      ]
    },
    {
      "cell_type": "code",
      "source": [
        "#bilawal2\n",
        "\n",
        "# Load the audio file\n",
        "raga = \"/content/drive/MyDrive/normalized_30min_seg/Alhaiya Bilawal/Joy in the Morning - Pt Ulhas Kashalkar Sings Alhaiya Bilawal (1).mp3_segment_0.mp3\" #ulhas\n",
        "y, sr = librosa.load(raga)\n",
        "\n",
        "# Change the pitch from D# to C#\n",
        "new_y = librosa.effects.pitch_shift(y, sr=sr, n_steps=-2)\n",
        "\n",
        "# Save the converted audio file\n",
        "sf.write(\"converted.wav\", new_y, sr)\n",
        "\n",
        "original_audio = AudioSegment.from_file(\"converted.wav\")\n",
        "\n",
        "# Define the duration of each segment (5 seconds)\n",
        "segment_duration = 5 * 1000\n",
        "\n",
        "\n",
        "\n",
        "# Split the audio into segments\n",
        "num_segments = len(original_audio) // segment_duration\n",
        "for i in range(num_segments):\n",
        "    start_time = i * segment_duration\n",
        "    end_time = (i + 1) * segment_duration\n",
        "    audio_segment = original_audio[start_time:end_time]\n",
        "\n",
        "\n",
        "    segment_filename = os.path.join(\"/content/drive/MyDrive/5sectrained/Alhaiya Bilawal\", f\"segment_{i+360}.wav\") #bilawal\n",
        "    audio_segment.export(segment_filename, format=\"wav\")\n",
        "\n",
        "# Print the number of segments\n",
        "print(f\"Number of segments generated: {num_segments}\")\n",
        "\n",
        "\n",
        "\n"
      ],
      "metadata": {
        "colab": {
          "base_uri": "https://localhost:8080/"
        },
        "id": "gBpdFt4t8G-1",
        "outputId": "204e3b31-3134-4057-d055-e863b9a388b4"
      },
      "execution_count": 60,
      "outputs": [
        {
          "output_type": "stream",
          "name": "stdout",
          "text": [
            "Number of segments generated: 360\n"
          ]
        }
      ]
    },
    {
      "cell_type": "code",
      "source": [
        "#bilawal3\n",
        "\n",
        "# Load the audio file\n",
        "raga = \"/content/drive/MyDrive/normalized_30min_seg/Alhaiya Bilawal/Apoorva Gokhale_ Raag Alhaiya Bilawal.mp3_segment_0.mp3\" #apoorva\n",
        "y, sr = librosa.load(raga)\n",
        "\n",
        "# Change the pitch from G# to C#\n",
        "new_y = librosa.effects.pitch_shift(y, sr=sr, n_steps=5)\n",
        "\n",
        "# Save the converted audio file\n",
        "sf.write(\"converted.wav\", new_y, sr)\n",
        "\n",
        "original_audio = AudioSegment.from_file(\"converted.wav\")\n",
        "\n",
        "# Define the duration of each segment (5 seconds)\n",
        "segment_duration = 5 * 1000\n",
        "\n",
        "\n",
        "\n",
        "# Split the audio into segments\n",
        "num_segments = len(original_audio) // segment_duration\n",
        "for i in range(num_segments):\n",
        "    start_time = i * segment_duration\n",
        "    end_time = (i + 1) * segment_duration\n",
        "    audio_segment = original_audio[start_time:end_time]\n",
        "\n",
        "\n",
        "    segment_filename = os.path.join(\"/content/drive/MyDrive/5sectrained/Alhaiya Bilawal\", f\"segment_{i+720}.wav\") #bilawal\n",
        "    audio_segment.export(segment_filename, format=\"wav\")\n",
        "\n",
        "# Print the number of segments\n",
        "print(f\"Number of segments generated: {num_segments}\")\n",
        "\n",
        "\n",
        "\n"
      ],
      "metadata": {
        "colab": {
          "base_uri": "https://localhost:8080/"
        },
        "id": "ubp6LZe28Yzk",
        "outputId": "9e78f068-d57d-4306-d7fd-87f1a47e2fcd"
      },
      "execution_count": 61,
      "outputs": [
        {
          "output_type": "stream",
          "name": "stdout",
          "text": [
            "Number of segments generated: 360\n"
          ]
        }
      ]
    },
    {
      "cell_type": "code",
      "source": [
        "#bilawal4\n",
        "\n",
        "# Load the audio file\n",
        "raga = \"/content/drive/MyDrive/normalized_30min_seg/Alhaiya Bilawal/Apoorva Gokhale and Pallavi Joshi  Rag  Alhaiya Bilawal at Kochi.mp3_segment_0.mp3\" #apoorva/pallavi\n",
        "y, sr = librosa.load(raga)\n",
        "\n",
        "# Change the pitch from G# to C#\n",
        "new_y = librosa.effects.pitch_shift(y, sr=sr, n_steps=5)\n",
        "\n",
        "# Save the converted audio file\n",
        "sf.write(\"converted.wav\", new_y, sr)\n",
        "\n",
        "original_audio = AudioSegment.from_file(\"converted.wav\")\n",
        "\n",
        "# Define the duration of each segment (5 seconds)\n",
        "segment_duration = 5 * 1000\n",
        "\n",
        "\n",
        "\n",
        "# Split the audio into segments\n",
        "num_segments = len(original_audio) // segment_duration\n",
        "for i in range(num_segments):\n",
        "    start_time = i * segment_duration\n",
        "    end_time = (i + 1) * segment_duration\n",
        "    audio_segment = original_audio[start_time:end_time]\n",
        "\n",
        "\n",
        "    segment_filename = os.path.join(\"/content/drive/MyDrive/5sectrained/Alhaiya Bilawal\", f\"segment_{i+1080}.wav\") #bilawal\n",
        "    audio_segment.export(segment_filename, format=\"wav\")\n",
        "\n",
        "# Print the number of segments\n",
        "print(f\"Number of segments generated: {num_segments}\")\n",
        "\n",
        "\n",
        "\n"
      ],
      "metadata": {
        "colab": {
          "base_uri": "https://localhost:8080/"
        },
        "id": "r22ql61u8kCw",
        "outputId": "639076b0-fca7-4446-a22e-ccb2bbd5fb12"
      },
      "execution_count": 62,
      "outputs": [
        {
          "output_type": "stream",
          "name": "stdout",
          "text": [
            "Number of segments generated: 360\n"
          ]
        }
      ]
    },
    {
      "cell_type": "code",
      "source": [
        "#bilawal5\n",
        "\n",
        "# Load the audio file\n",
        "raga = \"/content/drive/MyDrive/normalized_30min_seg/Alhaiya Bilawal/Raga Alhaiya Bilawal  Pandit Jasraj _ Ustad Sheikh Dawood  USA (1975).mp3_segment_0.mp3\" #jasraj\n",
        "y, sr = librosa.load(raga)\n",
        "\n",
        "# Change the pitch from D# to C#\n",
        "new_y = librosa.effects.pitch_shift(y, sr=sr, n_steps=-2)\n",
        "\n",
        "# Save the converted audio file\n",
        "sf.write(\"converted.wav\", new_y, sr)\n",
        "\n",
        "original_audio = AudioSegment.from_file(\"converted.wav\")\n",
        "\n",
        "# Define the duration of each segment (5 seconds)\n",
        "segment_duration = 5 * 1000\n",
        "\n",
        "\n",
        "\n",
        "# Split the audio into segments\n",
        "num_segments = len(original_audio) // segment_duration\n",
        "for i in range(num_segments):\n",
        "    start_time = i * segment_duration\n",
        "    end_time = (i + 1) * segment_duration\n",
        "    audio_segment = original_audio[start_time:end_time]\n",
        "\n",
        "\n",
        "    segment_filename = os.path.join(\"/content/drive/MyDrive/5sectrained/Alhaiya Bilawal\", f\"segment_{i+1440}.wav\") #bilawal\n",
        "    audio_segment.export(segment_filename, format=\"wav\")\n",
        "\n",
        "# Print the number of segments\n",
        "print(f\"Number of segments generated: {num_segments}\")\n",
        "\n",
        "\n",
        "\n"
      ],
      "metadata": {
        "colab": {
          "base_uri": "https://localhost:8080/"
        },
        "id": "pQRXGqJM8rhT",
        "outputId": "95c77a27-6c82-41b1-c7fc-4d1294b6bd0d"
      },
      "execution_count": 63,
      "outputs": [
        {
          "output_type": "stream",
          "name": "stdout",
          "text": [
            "Number of segments generated: 360\n"
          ]
        }
      ]
    },
    {
      "cell_type": "code",
      "source": [
        "import os\n",
        "import glob\n",
        "\n",
        "def count_audio_files_in_folders(main_folder):\n",
        "    for root, dirs, files in os.walk(main_folder):\n",
        "        audio_files = [file for file in files if file.lower().endswith(('.mp3', '.wav', '.flac', '.ogg', '.aac'))]\n",
        "        if audio_files:\n",
        "            print(f\"Folder: {root} has {len(audio_files)} audio file(s)\")\n",
        "\n",
        "# Replace 'main_folder' with the path to your main folder\n",
        "main_folder = '/content/drive/MyDrive/5sectrained'\n",
        "count_audio_files_in_folders(main_folder)"
      ],
      "metadata": {
        "colab": {
          "base_uri": "https://localhost:8080/"
        },
        "id": "pwOi-v31M2X7",
        "outputId": "6fc69f27-02f7-4dec-c3a9-c354404fd146"
      },
      "execution_count": 65,
      "outputs": [
        {
          "output_type": "stream",
          "name": "stdout",
          "text": [
            "Folder: /content/drive/MyDrive/5sectrained/Malkans has 1800 audio file(s)\n",
            "Folder: /content/drive/MyDrive/5sectrained/PuriyaDhanashree has 1800 audio file(s)\n",
            "Folder: /content/drive/MyDrive/5sectrained/Alhaiya Bilawal has 1800 audio file(s)\n",
            "Folder: /content/drive/MyDrive/5sectrained/Bhimplasi has 1800 audio file(s)\n",
            "Folder: /content/drive/MyDrive/5sectrained/Asavari has 1800 audio file(s)\n",
            "Folder: /content/drive/MyDrive/5sectrained/Bhairavi has 1800 audio file(s)\n",
            "Folder: /content/drive/MyDrive/5sectrained/Bhairav has 1800 audio file(s)\n",
            "Folder: /content/drive/MyDrive/5sectrained/Durga has 1800 audio file(s)\n",
            "Folder: /content/drive/MyDrive/5sectrained/Bhoop has 1800 audio file(s)\n",
            "Folder: /content/drive/MyDrive/5sectrained/Yaman has 1800 audio file(s)\n"
          ]
        }
      ]
    },
    {
      "cell_type": "code",
      "source": [
        "#visualisation\n",
        "mfcc\n",
        "import librosa.display\n",
        "import matplotlib.pyplot as plt\n",
        "\n",
        "# Function to plot MFCC of an audio file\n",
        "def plot_mfcc(audio_file):\n",
        "    y, sr = librosa.load(audio_file)\n",
        "\n",
        "    # Extract MFCC features\n",
        "    mfccs = librosa.feature.mfcc(y=y, sr=sr, n_mfcc=13)\n",
        "\n",
        "    # Display MFCCs\n",
        "    plt.figure(figsize=(10, 4))\n",
        "    librosa.display.specshow(mfccs, x_axis='time')\n",
        "    plt.colorbar()\n",
        "    plt.title('MFCC')\n",
        "    plt.tight_layout()\n",
        "    plt.show()\n",
        "\n",
        "\n",
        "audio_file_path = '/content/drive/MyDrive/raagaa3/malkans/segment_125.wav'\n",
        "\n",
        "# Plot the MFCC of the audio file\n",
        "plot_mfcc(audio_file_path)"
      ],
      "metadata": {
        "colab": {
          "base_uri": "https://localhost:8080/",
          "height": 407
        },
        "id": "XFfEbztOL5a7",
        "outputId": "42c34a92-5b9d-46ea-bf07-d194e35ba558"
      },
      "execution_count": 87,
      "outputs": [
        {
          "output_type": "display_data",
          "data": {
            "text/plain": [
              "<Figure size 1000x400 with 2 Axes>"
            ],
            "image/png": "[encoded data removed]"
          },
          "metadata": {}
        }
      ]
    },
    {
      "cell_type": "code",
      "source": [
        "# Function to plot chroma features of an audio file\n",
        "def plot_chroma(audio_file):\n",
        "    y, sr = librosa.load(audio_file)\n",
        "\n",
        "    # Extract Chroma features\n",
        "    chromagram = librosa.feature.chroma_stft(y=y, sr=sr)\n",
        "\n",
        "    # Display Chroma features\n",
        "    plt.figure(figsize=(10, 4))\n",
        "    librosa.display.specshow(chromagram, x_axis='time', y_axis='chroma', cmap='coolwarm')\n",
        "    plt.colorbar()\n",
        "    plt.title('Chroma Features')\n",
        "    plt.tight_layout()\n",
        "    plt.show()\n",
        "\n",
        "audio_file_path = '/content/drive/MyDrive/raagaa3/malkans/segment_125.wav'\n",
        "\n",
        "# Plot the Chroma features of the audio file\n",
        "plot_chroma(audio_file_path)"
      ],
      "metadata": {
        "colab": {
          "base_uri": "https://localhost:8080/",
          "height": 407
        },
        "id": "mo1fo0ZHNi8K",
        "outputId": "b046084d-cf7b-44b9-fb8b-5a44dadf6fc4"
      },
      "execution_count": 88,
      "outputs": [
        {
          "output_type": "display_data",
          "data": {
            "text/plain": [
              "<Figure size 1000x400 with 2 Axes>"
            ],
            "image/png": "[encoded data removed]"
          },
          "metadata": {}
        }
      ]
    },
    {
      "cell_type": "code",
      "source": [
        "#spectrogram\n",
        "import numpy as np\n",
        "# Function to plot a spectrogram of an audio file\n",
        "def plot_spectrogram(audio_file):\n",
        "    y, sr = librosa.load(audio_file)\n",
        "\n",
        "    # Calculate the spectrogram\n",
        "    spectrogram = librosa.feature.melspectrogram(y=y, sr=sr, n_fft=2048, hop_length=512)\n",
        "\n",
        "    # Convert to decibel scale\n",
        "    log_spectrogram = librosa.power_to_db(spectrogram, ref=np.max)\n",
        "\n",
        "    # Display the spectrogram\n",
        "    plt.figure(figsize=(10, 4))\n",
        "    librosa.display.specshow(log_spectrogram, sr=sr, hop_length=512, x_axis='time', y_axis='mel')\n",
        "    plt.colorbar(format='%+2.0f dB')\n",
        "    plt.title('Spectrogram')\n",
        "    plt.tight_layout()\n",
        "    plt.show()\n",
        "\n",
        "audio_file_path = '/content/drive/MyDrive/raagaa3/malkans/segment_125.wav'\n",
        "\n",
        "# Plot the Spectrogram of the audio file\n",
        "plot_spectrogram(audio_file_path)"
      ],
      "metadata": {
        "colab": {
          "base_uri": "https://localhost:8080/",
          "height": 407
        },
        "id": "kav1T9i1OSe3",
        "outputId": "cef5a555-c232-46e5-f481-988686eee775"
      },
      "execution_count": 90,
      "outputs": [
        {
          "output_type": "display_data",
          "data": {
            "text/plain": [
              "<Figure size 1000x400 with 2 Axes>"
            ],
            "image/png": "[encoded data removed]"
          },
          "metadata": {}
        }
      ]
    },
    {
      "cell_type": "code",
      "source": [
        "# Function to plot the spectral centroid of an audio file\n",
        "def plot_spectral_centroid(audio_file):\n",
        "    y, sr = librosa.load(audio_file)\n",
        "\n",
        "    # Calculate the spectral centroid\n",
        "    spectral_centroids = librosa.feature.spectral_centroid(y=y, sr=sr)[0]\n",
        "\n",
        "    # Compute the time variable for x-axis\n",
        "    frames = range(len(spectral_centroids))\n",
        "    t = librosa.frames_to_time(frames)\n",
        "\n",
        "    # Plot the spectral centroid\n",
        "    plt.figure(figsize=(10, 4))\n",
        "    plt.plot(t, spectral_centroids, color='b')\n",
        "    plt.title('Spectral Centroid')\n",
        "    plt.xlabel('Time')\n",
        "    plt.ylabel('Frequency')\n",
        "    plt.tight_layout()\n",
        "    plt.show()\n",
        "\n",
        "audio_file_path = '/content/drive/MyDrive/raagaa3/malkans/segment_125.wav'\n",
        "\n",
        "# Plot the Spectral Centroid of the audio file\n",
        "plot_spectral_centroid(audio_file_path)"
      ],
      "metadata": {
        "colab": {
          "base_uri": "https://localhost:8080/",
          "height": 407
        },
        "id": "5XYr6CN_OnWb",
        "outputId": "303c2944-786c-4ecc-8af1-dce3b2b70972"
      },
      "execution_count": 91,
      "outputs": [
        {
          "output_type": "display_data",
          "data": {
            "text/plain": [
              "<Figure size 1000x400 with 1 Axes>"
            ],
            "image/png": "[encoded data removed]"
          },
          "metadata": {}
        }
      ]
    },
    {
      "cell_type": "code",
      "source": [
        "# Function to plot the Zero Crossing Rate of an audio file\n",
        "def plot_zero_crossing_rate(audio_file):\n",
        "    y, sr = librosa.load(audio_file)\n",
        "\n",
        "    # Calculate the zero crossing rate\n",
        "    zcr = librosa.feature.zero_crossing_rate(y)\n",
        "\n",
        "    # Compute the time variable for x-axis\n",
        "    frames = range(len(zcr[0]))\n",
        "    t = librosa.frames_to_time(frames)\n",
        "\n",
        "    # Plot the Zero Crossing Rate\n",
        "    plt.figure(figsize=(10, 4))\n",
        "    plt.plot(t, zcr[0], color='r')\n",
        "    plt.title('Zero Crossing Rate')\n",
        "    plt.xlabel('Time')\n",
        "    plt.ylabel('Zero Crossing Rate')\n",
        "    plt.tight_layout()\n",
        "    plt.show()\n",
        "\n",
        "# Replace 'path/to/your_audio_file' with the path to your audio file\n",
        "audio_file_path = '/content/drive/MyDrive/raagaa3/malkans/segment_125.wav'\n",
        "\n",
        "# Plot the Zero Crossing Rate of the audio file\n",
        "plot_zero_crossing_rate(audio_file_path)"
      ],
      "metadata": {
        "colab": {
          "base_uri": "https://localhost:8080/",
          "height": 407
        },
        "id": "uwl4w1mePq0x",
        "outputId": "6513329b-e6fd-4c54-8eb4-f8801e4a021b"
      },
      "execution_count": 92,
      "outputs": [
        {
          "output_type": "display_data",
          "data": {
            "text/plain": [
              "<Figure size 1000x400 with 1 Axes>"
            ],
            "image/png": "[encoded data removed]"
          },
          "metadata": {}
        }
      ]
    },
    {
      "cell_type": "code",
      "source": [
        "#model training\n",
        "import os\n",
        "import pandas as pd\n",
        "\n",
        "# Function to extract MFCC from audio files in subfolders and assign labels\n",
        "def extract_mfcc_from_folder(input_folder):\n",
        "    data = {\"labels\": [], \"mfcc\": []}\n",
        "\n",
        "    for root, dirs, files in os.walk(input_folder):\n",
        "        for file in files:\n",
        "            if file.endswith('.wav') or file.endswith('.mp3'):\n",
        "                file_path = os.path.join(root, file)\n",
        "                label = os.path.basename(root)  # Assigning label based on subfolder name\n",
        "\n",
        "                try:\n",
        "                    # Load the audio file\n",
        "                    audio, sr = librosa.load(file_path)\n",
        "\n",
        "                    # Extract MFCC features\n",
        "                    mfccs = librosa.feature.mfcc(y=audio, sr=sr, n_mfcc=13)\n",
        "                    data[\"labels\"].append(label)\n",
        "                    data[\"mfcc\"].append(mfccs.T)  # Transpose the MFCC data\n",
        "\n",
        "                except Exception as e:\n",
        "                    print(f\"Error processing {file}: {e}\")\n",
        "\n",
        "    return data\n",
        "\n",
        "# Replace 'path/to/your_audio_folder' with the directory containing your audio files\n",
        "input_audio_folder = '/content/drive/MyDrive/5sectrained'\n",
        "\n",
        "# Extract MFCC and labels\n",
        "mfcc_data = extract_mfcc_from_folder(input_audio_folder)\n",
        "\n",
        "# Convert the dictionary format into a DataFrame\n",
        "df = pd.DataFrame(mfcc_data)\n",
        "\n",
        "# Preview the DataFrame\n",
        "print(df.head())"
      ],
      "metadata": {
        "colab": {
          "base_uri": "https://localhost:8080/"
        },
        "id": "IsQGnzJFSSXL",
        "outputId": "f4263053-f2e3-4ae2-b49e-b247d031e474"
      },
      "execution_count": 80,
      "outputs": [
        {
          "output_type": "stream",
          "name": "stdout",
          "text": [
            "    labels                                               mfcc\n",
            "0  Malkans  [[-1131.3708, 0.0, 0.0, 0.0, 0.0, 0.0, 0.0, 0....\n",
            "1  Malkans  [[-800.5331, 73.39059, 6.403723, 2.814515, 58....\n",
            "2  Malkans  [[-829.57764, 37.977478, 29.898167, 14.286813,...\n",
            "3  Malkans  [[-700.40796, 2.7853506, -35.12805, -5.688586,...\n",
            "4  Malkans  [[-831.7991, 36.25805, 56.046158, 54.222, -2.6...\n"
          ]
        }
      ]
    },
    {
      "cell_type": "code",
      "source": [
        "df"
      ],
      "metadata": {
        "colab": {
          "base_uri": "https://localhost:8080/",
          "height": 424
        },
        "id": "kpsmaCnMT9fI",
        "outputId": "0eeef31e-cacd-495d-fc59-5b6178d7fa4e"
      },
      "execution_count": 81,
      "outputs": [
        {
          "output_type": "execute_result",
          "data": {
            "text/plain": [
              "        labels                                               mfcc\n",
              "0      Malkans  [[-1131.3708, 0.0, 0.0, 0.0, 0.0, 0.0, 0.0, 0....\n",
              "1      Malkans  [[-800.5331, 73.39059, 6.403723, 2.814515, 58....\n",
              "2      Malkans  [[-829.57764, 37.977478, 29.898167, 14.286813,...\n",
              "3      Malkans  [[-700.40796, 2.7853506, -35.12805, -5.688586,...\n",
              "4      Malkans  [[-831.7991, 36.25805, 56.046158, 54.222, -2.6...\n",
              "...        ...                                                ...\n",
              "17995    Yaman  [[-451.9698, 147.3476, -42.913063, -16.066242,...\n",
              "17996    Yaman  [[-285.88702, 118.8539, 32.325066, 34.628487, ...\n",
              "17997    Yaman  [[-558.1474, 82.947754, 2.4398584, 3.0180836, ...\n",
              "17998    Yaman  [[-387.4602, 188.68259, -16.119171, -10.723272...\n",
              "17999    Yaman  [[-688.8718, 11.623983, 5.442973, 20.494751, 1...\n",
              "\n",
              "[18000 rows x 2 columns]"
            ],
            "text/html": [
              "\n",
              "  <div id=\"df-46e8fe94-222a-42d9-a1fb-0790b352ab73\" class=\"colab-df-container\">\n",
              "    <div>\n",
              "<style scoped>\n",
              "    .dataframe tbody tr th:only-of-type {\n",
              "        vertical-align: middle;\n",
              "    }\n",
              "\n",
              "    .dataframe tbody tr th {\n",
              "        vertical-align: top;\n",
              "    }\n",
              "\n",
              "    .dataframe thead th {\n",
              "        text-align: right;\n",
              "    }\n",
              "</style>\n",
              "<table border=\"1\" class=\"dataframe\">\n",
              "  <thead>\n",
              "    <tr style=\"text-align: right;\">\n",
              "      <th></th>\n",
              "      <th>labels</th>\n",
              "      <th>mfcc</th>\n",
              "    </tr>\n",
              "  </thead>\n",
              "  <tbody>\n",
              "    <tr>\n",
              "      <th>0</th>\n",
              "      <td>Malkans</td>\n",
              "      <td>[[-1131.3708, 0.0, 0.0, 0.0, 0.0, 0.0, 0.0, 0....</td>\n",
              "    </tr>\n",
              "    <tr>\n",
              "      <th>1</th>\n",
              "      <td>Malkans</td>\n",
              "      <td>[[-800.5331, 73.39059, 6.403723, 2.814515, 58....</td>\n",
              "    </tr>\n",
              "    <tr>\n",
              "      <th>2</th>\n",
              "      <td>Malkans</td>\n",
              "      <td>[[-829.57764, 37.977478, 29.898167, 14.286813,...</td>\n",
              "    </tr>\n",
              "    <tr>\n",
              "      <th>3</th>\n",
              "      <td>Malkans</td>\n",
              "      <td>[[-700.40796, 2.7853506, -35.12805, -5.688586,...</td>\n",
              "    </tr>\n",
              "    <tr>\n",
              "      <th>4</th>\n",
              "      <td>Malkans</td>\n",
              "      <td>[[-831.7991, 36.25805, 56.046158, 54.222, -2.6...</td>\n",
              "    </tr>\n",
              "    <tr>\n",
              "      <th>...</th>\n",
              "      <td>...</td>\n",
              "      <td>...</td>\n",
              "    </tr>\n",
              "    <tr>\n",
              "      <th>17995</th>\n",
              "      <td>Yaman</td>\n",
              "      <td>[[-451.9698, 147.3476, -42.913063, -16.066242,...</td>\n",
              "    </tr>\n",
              "    <tr>\n",
              "      <th>17996</th>\n",
              "      <td>Yaman</td>\n",
              "      <td>[[-285.88702, 118.8539, 32.325066, 34.628487, ...</td>\n",
              "    </tr>\n",
              "    <tr>\n",
              "      <th>17997</th>\n",
              "      <td>Yaman</td>\n",
              "      <td>[[-558.1474, 82.947754, 2.4398584, 3.0180836, ...</td>\n",
              "    </tr>\n",
              "    <tr>\n",
              "      <th>17998</th>\n",
              "      <td>Yaman</td>\n",
              "      <td>[[-387.4602, 188.68259, -16.119171, -10.723272...</td>\n",
              "    </tr>\n",
              "    <tr>\n",
              "      <th>17999</th>\n",
              "      <td>Yaman</td>\n",
              "      <td>[[-688.8718, 11.623983, 5.442973, 20.494751, 1...</td>\n",
              "    </tr>\n",
              "  </tbody>\n",
              "</table>\n",
              "<p>18000 rows × 2 columns</p>\n",
              "</div>\n",
              "    <div class=\"colab-df-buttons\">\n",
              "\n",
              "  <div class=\"colab-df-container\">\n",
              "    <button class=\"colab-df-convert\" onclick=\"convertToInteractive('df-46e8fe94-222a-42d9-a1fb-0790b352ab73')\"\n",
              "            title=\"Convert this dataframe to an interactive table.\"\n",
              "            style=\"display:none;\">\n",
              "\n",
              "  <svg xmlns=\"http://www.w3.org/2000/svg\" height=\"24px\" viewBox=\"0 -960 960 960\">\n",
              "    <path d=\"M120-120v-720h720v720H120Zm60-500h600v-160H180v160Zm220 220h160v-160H400v160Zm0 220h160v-160H400v160ZM180-400h160v-160H180v160Zm440 0h160v-160H620v160ZM180-180h160v-160H180v160Zm440 0h160v-160H620v160Z\"/>\n",
              "  </svg>\n",
              "    </button>\n",
              "\n",
              "  <style>\n",
              "    .colab-df-container {\n",
              "      display:flex;\n",
              "      gap: 12px;\n",
              "    }\n",
              "\n",
              "    .colab-df-convert {\n",
              "      background-color: #E8F0FE;\n",
              "      border: none;\n",
              "      border-radius: 50%;\n",
              "      cursor: pointer;\n",
              "      display: none;\n",
              "      fill: #1967D2;\n",
              "      height: 32px;\n",
              "      padding: 0 0 0 0;\n",
              "      width: 32px;\n",
              "    }\n",
              "\n",
              "    .colab-df-convert:hover {\n",
              "      background-color: #E2EBFA;\n",
              "      box-shadow: 0px 1px 2px rgba(60, 64, 67, 0.3), 0px 1px 3px 1px rgba(60, 64, 67, 0.15);\n",
              "      fill: #174EA6;\n",
              "    }\n",
              "\n",
              "    .colab-df-buttons div {\n",
              "      margin-bottom: 4px;\n",
              "    }\n",
              "\n",
              "    [theme=dark] .colab-df-convert {\n",
              "      background-color: #3B4455;\n",
              "      fill: #D2E3FC;\n",
              "    }\n",
              "\n",
              "    [theme=dark] .colab-df-convert:hover {\n",
              "      background-color: #434B5C;\n",
              "      box-shadow: 0px 1px 3px 1px rgba(0, 0, 0, 0.15);\n",
              "      filter: drop-shadow(0px 1px 2px rgba(0, 0, 0, 0.3));\n",
              "      fill: #FFFFFF;\n",
              "    }\n",
              "  </style>\n",
              "\n",
              "    <script>\n",
              "      const buttonEl =\n",
              "        document.querySelector('#df-46e8fe94-222a-42d9-a1fb-0790b352ab73 button.colab-df-convert');\n",
              "      buttonEl.style.display =\n",
              "        google.colab.kernel.accessAllowed ? 'block' : 'none';\n",
              "\n",
              "      async function convertToInteractive(key) {\n",
              "        const element = document.querySelector('#df-46e8fe94-222a-42d9-a1fb-0790b352ab73');\n",
              "        const dataTable =\n",
              "          await google.colab.kernel.invokeFunction('convertToInteractive',\n",
              "                                                    [key], {});\n",
              "        if (!dataTable) return;\n",
              "\n",
              "        const docLinkHtml = 'Like what you see? Visit the ' +\n",
              "          '<a target=\"_blank\" href=https://colab.research.google.com/notebooks/data_table.ipynb>data table notebook</a>'\n",
              "          + ' to learn more about interactive tables.';\n",
              "        element.innerHTML = '';\n",
              "        dataTable['output_type'] = 'display_data';\n",
              "        await google.colab.output.renderOutput(dataTable, element);\n",
              "        const docLink = document.createElement('div');\n",
              "        docLink.innerHTML = docLinkHtml;\n",
              "        element.appendChild(docLink);\n",
              "      }\n",
              "    </script>\n",
              "  </div>\n",
              "\n",
              "\n",
              "<div id=\"df-20ca6f5e-a29c-447b-a39a-35e5152f93d6\">\n",
              "  <button class=\"colab-df-quickchart\" onclick=\"quickchart('df-20ca6f5e-a29c-447b-a39a-35e5152f93d6')\"\n",
              "            title=\"Suggest charts.\"\n",
              "            style=\"display:none;\">\n",
              "\n",
              "<svg xmlns=\"http://www.w3.org/2000/svg\" height=\"24px\"viewBox=\"0 0 24 24\"\n",
              "     width=\"24px\">\n",
              "    <g>\n",
              "        <path d=\"M19 3H5c-1.1 0-2 .9-2 2v14c0 1.1.9 2 2 2h14c1.1 0 2-.9 2-2V5c0-1.1-.9-2-2-2zM9 17H7v-7h2v7zm4 0h-2V7h2v10zm4 0h-2v-4h2v4z\"/>\n",
              "    </g>\n",
              "</svg>\n",
              "  </button>\n",
              "\n",
              "<style>\n",
              "  .colab-df-quickchart {\n",
              "      --bg-color: #E8F0FE;\n",
              "      --fill-color: #1967D2;\n",
              "      --hover-bg-color: #E2EBFA;\n",
              "      --hover-fill-color: #174EA6;\n",
              "      --disabled-fill-color: #AAA;\n",
              "      --disabled-bg-color: #DDD;\n",
              "  }\n",
              "\n",
              "  [theme=dark] .colab-df-quickchart {\n",
              "      --bg-color: #3B4455;\n",
              "      --fill-color: #D2E3FC;\n",
              "      --hover-bg-color: #434B5C;\n",
              "      --hover-fill-color: #FFFFFF;\n",
              "      --disabled-bg-color: #3B4455;\n",
              "      --disabled-fill-color: #666;\n",
              "  }\n",
              "\n",
              "  .colab-df-quickchart {\n",
              "    background-color: var(--bg-color);\n",
              "    border: none;\n",
              "    border-radius: 50%;\n",
              "    cursor: pointer;\n",
              "    display: none;\n",
              "    fill: var(--fill-color);\n",
              "    height: 32px;\n",
              "    padding: 0;\n",
              "    width: 32px;\n",
              "  }\n",
              "\n",
              "  .colab-df-quickchart:hover {\n",
              "    background-color: var(--hover-bg-color);\n",
              "    box-shadow: 0 1px 2px rgba(60, 64, 67, 0.3), 0 1px 3px 1px rgba(60, 64, 67, 0.15);\n",
              "    fill: var(--button-hover-fill-color);\n",
              "  }\n",
              "\n",
              "  .colab-df-quickchart-complete:disabled,\n",
              "  .colab-df-quickchart-complete:disabled:hover {\n",
              "    background-color: var(--disabled-bg-color);\n",
              "    fill: var(--disabled-fill-color);\n",
              "    box-shadow: none;\n",
              "  }\n",
              "\n",
              "  .colab-df-spinner {\n",
              "    border: 2px solid var(--fill-color);\n",
              "    border-color: transparent;\n",
              "    border-bottom-color: var(--fill-color);\n",
              "    animation:\n",
              "      spin 1s steps(1) infinite;\n",
              "  }\n",
              "\n",
              "  @keyframes spin {\n",
              "    0% {\n",
              "      border-color: transparent;\n",
              "      border-bottom-color: var(--fill-color);\n",
              "      border-left-color: var(--fill-color);\n",
              "    }\n",
              "    20% {\n",
              "      border-color: transparent;\n",
              "      border-left-color: var(--fill-color);\n",
              "      border-top-color: var(--fill-color);\n",
              "    }\n",
              "    30% {\n",
              "      border-color: transparent;\n",
              "      border-left-color: var(--fill-color);\n",
              "      border-top-color: var(--fill-color);\n",
              "      border-right-color: var(--fill-color);\n",
              "    }\n",
              "    40% {\n",
              "      border-color: transparent;\n",
              "      border-right-color: var(--fill-color);\n",
              "      border-top-color: var(--fill-color);\n",
              "    }\n",
              "    60% {\n",
              "      border-color: transparent;\n",
              "      border-right-color: var(--fill-color);\n",
              "    }\n",
              "    80% {\n",
              "      border-color: transparent;\n",
              "      border-right-color: var(--fill-color);\n",
              "      border-bottom-color: var(--fill-color);\n",
              "    }\n",
              "    90% {\n",
              "      border-color: transparent;\n",
              "      border-bottom-color: var(--fill-color);\n",
              "    }\n",
              "  }\n",
              "</style>\n",
              "\n",
              "  <script>\n",
              "    async function quickchart(key) {\n",
              "      const quickchartButtonEl =\n",
              "        document.querySelector('#' + key + ' button');\n",
              "      quickchartButtonEl.disabled = true;  // To prevent multiple clicks.\n",
              "      quickchartButtonEl.classList.add('colab-df-spinner');\n",
              "      try {\n",
              "        const charts = await google.colab.kernel.invokeFunction(\n",
              "            'suggestCharts', [key], {});\n",
              "      } catch (error) {\n",
              "        console.error('Error during call to suggestCharts:', error);\n",
              "      }\n",
              "      quickchartButtonEl.classList.remove('colab-df-spinner');\n",
              "      quickchartButtonEl.classList.add('colab-df-quickchart-complete');\n",
              "    }\n",
              "    (() => {\n",
              "      let quickchartButtonEl =\n",
              "        document.querySelector('#df-20ca6f5e-a29c-447b-a39a-35e5152f93d6 button');\n",
              "      quickchartButtonEl.style.display =\n",
              "        google.colab.kernel.accessAllowed ? 'block' : 'none';\n",
              "    })();\n",
              "  </script>\n",
              "</div>\n",
              "    </div>\n",
              "  </div>\n"
            ]
          },
          "metadata": {},
          "execution_count": 81
        }
      ]
    },
    {
      "cell_type": "code",
      "source": [
        "df.shape"
      ],
      "metadata": {
        "colab": {
          "base_uri": "https://localhost:8080/"
        },
        "id": "dV-0NxfbUDkx",
        "outputId": "1353d050-c80b-49f0-aa53-e206c8e657c2"
      },
      "execution_count": 82,
      "outputs": [
        {
          "output_type": "execute_result",
          "data": {
            "text/plain": [
              "(18000, 2)"
            ]
          },
          "metadata": {},
          "execution_count": 82
        }
      ]
    },
    {
      "cell_type": "code",
      "source": [
        "#model training\n",
        "from sklearn.model_selection import train_test_split\n",
        "from sklearn.preprocessing import LabelEncoder\n",
        "from tensorflow import keras\n",
        "from keras import layers\n",
        "\n",
        "\n",
        "# Assuming 'mfcc' column contains the MFCC data and 'labels' contains corresponding labels\n",
        "\n",
        "# Assuming df contains columns 'mfcc' and 'labels'\n",
        "\n",
        "# Convert the 'mfcc' column to a NumPy array\n",
        "mfcc_data = np.array(df['mfcc'].to_list())\n",
        "\n",
        "# Determine the shape of the first MFCC sequence\n",
        "num_frames, num_mfcc = mfcc_data[0].shape\n",
        "\n",
        "# Reshape the MFCC data to match the input shape for the CNN\n",
        "num_channels = 1  # Assuming grayscale MFCC data\n",
        "\n",
        "# Reshape the MFCC data to fit the CNN input shape\n",
        "mfcc_data = mfcc_data.reshape(-1, num_frames, num_mfcc, num_channels)\n",
        "\n",
        "# Normalize the data\n",
        "mfcc_data = mfcc_data / np.max(mfcc_data)\n",
        "\n",
        "# Extract labels as NumPy array\n",
        "labels = np.array(df['labels'])\n",
        "\n",
        "# Encoding categorical labels if needed\n",
        "label_encoder = LabelEncoder()\n",
        "labels = label_encoder.fit_transform(labels)\n",
        "\n",
        "# Split the data into training and validation sets\n",
        "X_train, X_validation, y_train, y_validation = train_test_split(mfcc_data, labels, test_size=0.2, random_state=42)\n",
        "\n",
        "# Define the input shape based on the reshaped MFCC data\n",
        "input_shape = (num_frames, num_mfcc, num_channels)\n",
        "\n",
        "# Define the CNN model\n",
        "model = keras.Sequential([\n",
        "    layers.Conv2D(32, (3, 3), activation='relu', padding='same', input_shape=input_shape),\n",
        "    layers.MaxPooling2D((3, 3), strides=(2, 2), padding='same'),\n",
        "    layers.BatchNormalization(),\n",
        "    layers.Conv2D(32, (3, 3), padding='same', activation='relu'),\n",
        "    layers.MaxPooling2D((3, 3), strides=(2, 2), padding='same'),\n",
        "    layers.BatchNormalization(),\n",
        "    layers.Conv2D(32, (2, 2), padding='same', activation='relu'),\n",
        "    layers.MaxPooling2D((2, 2), strides=(2, 2), padding='same'),\n",
        "    layers.BatchNormalization(),\n",
        "    layers.Flatten(),\n",
        "    layers.Dense(64, activation='relu'),\n",
        "    layers.Dropout(0.3),\n",
        "    layers.Dense(np.max(labels) + 1, activation='softmax')  # Output layer with the number of classes\n",
        "])\n",
        "\n",
        "# Compile the model\n",
        "optimiser = keras.optimizers.Adam(learning_rate=0.0001)\n",
        "model.compile(optimizer=optimiser, loss='sparse_categorical_crossentropy', metrics=['accuracy'])\n",
        "\n",
        "# Train the model\n",
        "history = model.fit(X_train, y_train, validation_data=(X_validation, y_validation), batch_size=32, epochs=75)\n",
        "\n",
        "model.save('mfcc_cnn_model_2.h5')\n",
        "\n",
        "_, accuracy = model.evaluate(X_validation, y_validation)\n",
        "print(f'Validation Accuracy: {accuracy * 100:.2f}%')"
      ],
      "metadata": {
        "colab": {
          "base_uri": "https://localhost:8080/"
        },
        "id": "Ct_kjXOXRfWI",
        "outputId": "6f07f14a-e0ce-482f-f211-1c2b404b8960"
      },
      "execution_count": 93,
      "outputs": [
        {
          "output_type": "stream",
          "name": "stdout",
          "text": [
            "Epoch 1/75\n",
            "450/450 [==============================] - 72s 154ms/step - loss: 2.3029 - accuracy: 0.1493 - val_loss: 2.3912 - val_accuracy: 0.1081\n",
            "Epoch 2/75\n",
            "450/450 [==============================] - 68s 151ms/step - loss: 2.1164 - accuracy: 0.2219 - val_loss: 2.0280 - val_accuracy: 0.2706\n",
            "Epoch 3/75\n",
            "450/450 [==============================] - 67s 149ms/step - loss: 1.9727 - accuracy: 0.2878 - val_loss: 1.8781 - val_accuracy: 0.3208\n",
            "Epoch 4/75\n",
            "450/450 [==============================] - 68s 151ms/step - loss: 1.8254 - accuracy: 0.3505 - val_loss: 1.7018 - val_accuracy: 0.4092\n",
            "Epoch 5/75\n",
            "450/450 [==============================] - 68s 150ms/step - loss: 1.6722 - accuracy: 0.4063 - val_loss: 1.5590 - val_accuracy: 0.4753\n",
            "Epoch 6/75\n",
            "450/450 [==============================] - 66s 148ms/step - loss: 1.5488 - accuracy: 0.4569 - val_loss: 1.5097 - val_accuracy: 0.4844\n",
            "Epoch 7/75\n",
            "450/450 [==============================] - 69s 152ms/step - loss: 1.4332 - accuracy: 0.5054 - val_loss: 1.4391 - val_accuracy: 0.5119\n",
            "Epoch 8/75\n",
            "450/450 [==============================] - 66s 148ms/step - loss: 1.3312 - accuracy: 0.5386 - val_loss: 1.3168 - val_accuracy: 0.5403\n",
            "Epoch 9/75\n",
            "450/450 [==============================] - 69s 152ms/step - loss: 1.2464 - accuracy: 0.5686 - val_loss: 1.3516 - val_accuracy: 0.5381\n",
            "Epoch 10/75\n",
            "450/450 [==============================] - 67s 149ms/step - loss: 1.1755 - accuracy: 0.5944 - val_loss: 1.2296 - val_accuracy: 0.5836\n",
            "Epoch 11/75\n",
            "450/450 [==============================] - 69s 152ms/step - loss: 1.1246 - accuracy: 0.6176 - val_loss: 1.1609 - val_accuracy: 0.6081\n",
            "Epoch 12/75\n",
            "450/450 [==============================] - 70s 156ms/step - loss: 1.0632 - accuracy: 0.6356 - val_loss: 1.1813 - val_accuracy: 0.6008\n",
            "Epoch 13/75\n",
            "450/450 [==============================] - 68s 152ms/step - loss: 1.0199 - accuracy: 0.6485 - val_loss: 1.1588 - val_accuracy: 0.6217\n",
            "Epoch 14/75\n",
            "450/450 [==============================] - 67s 149ms/step - loss: 0.9777 - accuracy: 0.6698 - val_loss: 1.1613 - val_accuracy: 0.6028\n",
            "Epoch 15/75\n",
            "450/450 [==============================] - 69s 153ms/step - loss: 0.9318 - accuracy: 0.6820 - val_loss: 1.0506 - val_accuracy: 0.6433\n",
            "Epoch 16/75\n",
            "450/450 [==============================] - 67s 149ms/step - loss: 0.8989 - accuracy: 0.6928 - val_loss: 1.0819 - val_accuracy: 0.6269\n",
            "Epoch 17/75\n",
            "450/450 [==============================] - 67s 148ms/step - loss: 0.8489 - accuracy: 0.7107 - val_loss: 0.9991 - val_accuracy: 0.6639\n",
            "Epoch 18/75\n",
            "450/450 [==============================] - 69s 154ms/step - loss: 0.8280 - accuracy: 0.7147 - val_loss: 1.0810 - val_accuracy: 0.6317\n",
            "Epoch 19/75\n",
            "450/450 [==============================] - 69s 153ms/step - loss: 0.7890 - accuracy: 0.7304 - val_loss: 1.0545 - val_accuracy: 0.6386\n",
            "Epoch 20/75\n",
            "450/450 [==============================] - 71s 157ms/step - loss: 0.7691 - accuracy: 0.7372 - val_loss: 1.0385 - val_accuracy: 0.6544\n",
            "Epoch 21/75\n",
            "450/450 [==============================] - 69s 153ms/step - loss: 0.7280 - accuracy: 0.7533 - val_loss: 0.9932 - val_accuracy: 0.6636\n",
            "Epoch 22/75\n",
            "450/450 [==============================] - 71s 158ms/step - loss: 0.7065 - accuracy: 0.7628 - val_loss: 1.3621 - val_accuracy: 0.5814\n",
            "Epoch 23/75\n",
            "450/450 [==============================] - 69s 153ms/step - loss: 0.6702 - accuracy: 0.7707 - val_loss: 1.0646 - val_accuracy: 0.6475\n",
            "Epoch 24/75\n",
            "450/450 [==============================] - 69s 154ms/step - loss: 0.6501 - accuracy: 0.7824 - val_loss: 0.8817 - val_accuracy: 0.7017\n",
            "Epoch 25/75\n",
            "450/450 [==============================] - 69s 153ms/step - loss: 0.6248 - accuracy: 0.7876 - val_loss: 0.9712 - val_accuracy: 0.6811\n",
            "Epoch 26/75\n",
            "450/450 [==============================] - 67s 149ms/step - loss: 0.5999 - accuracy: 0.7990 - val_loss: 1.0680 - val_accuracy: 0.6539\n",
            "Epoch 27/75\n",
            "450/450 [==============================] - 69s 153ms/step - loss: 0.5901 - accuracy: 0.8004 - val_loss: 1.0472 - val_accuracy: 0.6508\n",
            "Epoch 28/75\n",
            "450/450 [==============================] - 69s 154ms/step - loss: 0.5624 - accuracy: 0.8077 - val_loss: 0.8945 - val_accuracy: 0.7064\n",
            "Epoch 29/75\n",
            "450/450 [==============================] - 69s 153ms/step - loss: 0.5415 - accuracy: 0.8201 - val_loss: 0.9307 - val_accuracy: 0.6997\n",
            "Epoch 30/75\n",
            "450/450 [==============================] - 69s 153ms/step - loss: 0.5341 - accuracy: 0.8205 - val_loss: 1.0460 - val_accuracy: 0.6572\n",
            "Epoch 31/75\n",
            "450/450 [==============================] - 68s 152ms/step - loss: 0.5127 - accuracy: 0.8241 - val_loss: 0.8384 - val_accuracy: 0.7192\n",
            "Epoch 32/75\n",
            "450/450 [==============================] - 70s 154ms/step - loss: 0.4945 - accuracy: 0.8338 - val_loss: 1.0407 - val_accuracy: 0.6628\n",
            "Epoch 33/75\n",
            "450/450 [==============================] - 68s 152ms/step - loss: 0.4857 - accuracy: 0.8373 - val_loss: 0.8620 - val_accuracy: 0.7186\n",
            "Epoch 34/75\n",
            "450/450 [==============================] - 70s 155ms/step - loss: 0.4601 - accuracy: 0.8423 - val_loss: 0.9968 - val_accuracy: 0.6800\n",
            "Epoch 35/75\n",
            "450/450 [==============================] - 69s 154ms/step - loss: 0.4549 - accuracy: 0.8467 - val_loss: 0.8799 - val_accuracy: 0.7122\n",
            "Epoch 36/75\n",
            "450/450 [==============================] - 70s 156ms/step - loss: 0.4313 - accuracy: 0.8533 - val_loss: 0.9629 - val_accuracy: 0.6978\n",
            "Epoch 37/75\n",
            "450/450 [==============================] - 69s 154ms/step - loss: 0.4201 - accuracy: 0.8579 - val_loss: 0.9064 - val_accuracy: 0.7072\n",
            "Epoch 38/75\n",
            "450/450 [==============================] - 69s 153ms/step - loss: 0.4159 - accuracy: 0.8625 - val_loss: 0.8906 - val_accuracy: 0.7100\n",
            "Epoch 39/75\n",
            "450/450 [==============================] - 69s 153ms/step - loss: 0.3985 - accuracy: 0.8672 - val_loss: 0.9432 - val_accuracy: 0.7014\n",
            "Epoch 40/75\n",
            "450/450 [==============================] - 69s 153ms/step - loss: 0.3857 - accuracy: 0.8699 - val_loss: 0.9014 - val_accuracy: 0.7103\n",
            "Epoch 41/75\n",
            "450/450 [==============================] - 69s 153ms/step - loss: 0.3732 - accuracy: 0.8769 - val_loss: 0.8829 - val_accuracy: 0.7214\n",
            "Epoch 42/75\n",
            "450/450 [==============================] - 67s 149ms/step - loss: 0.3673 - accuracy: 0.8801 - val_loss: 0.9444 - val_accuracy: 0.7153\n",
            "Epoch 43/75\n",
            "450/450 [==============================] - 69s 154ms/step - loss: 0.3524 - accuracy: 0.8842 - val_loss: 1.0981 - val_accuracy: 0.6717\n",
            "Epoch 44/75\n",
            "450/450 [==============================] - 69s 154ms/step - loss: 0.3436 - accuracy: 0.8828 - val_loss: 0.9649 - val_accuracy: 0.6967\n",
            "Epoch 45/75\n",
            "450/450 [==============================] - 68s 151ms/step - loss: 0.3433 - accuracy: 0.8845 - val_loss: 1.1105 - val_accuracy: 0.6822\n",
            "Epoch 46/75\n",
            "450/450 [==============================] - 70s 155ms/step - loss: 0.3306 - accuracy: 0.8896 - val_loss: 0.9212 - val_accuracy: 0.7119\n",
            "Epoch 47/75\n",
            "450/450 [==============================] - 70s 155ms/step - loss: 0.3239 - accuracy: 0.8915 - val_loss: 0.8855 - val_accuracy: 0.7286\n",
            "Epoch 48/75\n",
            "450/450 [==============================] - 67s 149ms/step - loss: 0.3050 - accuracy: 0.9008 - val_loss: 0.9740 - val_accuracy: 0.7042\n",
            "Epoch 49/75\n",
            "450/450 [==============================] - 68s 150ms/step - loss: 0.3009 - accuracy: 0.9018 - val_loss: 0.9133 - val_accuracy: 0.7203\n",
            "Epoch 50/75\n",
            "450/450 [==============================] - 69s 152ms/step - loss: 0.2932 - accuracy: 0.9065 - val_loss: 0.8638 - val_accuracy: 0.7436\n",
            "Epoch 51/75\n",
            "450/450 [==============================] - 69s 153ms/step - loss: 0.2794 - accuracy: 0.9089 - val_loss: 0.9957 - val_accuracy: 0.7133\n",
            "Epoch 52/75\n",
            "450/450 [==============================] - 69s 152ms/step - loss: 0.2801 - accuracy: 0.9081 - val_loss: 1.0133 - val_accuracy: 0.7031\n",
            "Epoch 53/75\n",
            "450/450 [==============================] - 69s 153ms/step - loss: 0.2749 - accuracy: 0.9082 - val_loss: 1.0144 - val_accuracy: 0.7136\n",
            "Epoch 54/75\n",
            "450/450 [==============================] - 69s 153ms/step - loss: 0.2692 - accuracy: 0.9120 - val_loss: 0.9756 - val_accuracy: 0.7175\n",
            "Epoch 55/75\n",
            "450/450 [==============================] - 69s 153ms/step - loss: 0.2636 - accuracy: 0.9136 - val_loss: 1.0706 - val_accuracy: 0.6758\n",
            "Epoch 56/75\n",
            "450/450 [==============================] - 69s 153ms/step - loss: 0.2556 - accuracy: 0.9162 - val_loss: 0.9195 - val_accuracy: 0.7317\n",
            "Epoch 57/75\n",
            "450/450 [==============================] - 69s 153ms/step - loss: 0.2466 - accuracy: 0.9189 - val_loss: 0.9835 - val_accuracy: 0.7197\n",
            "Epoch 58/75\n",
            "450/450 [==============================] - 69s 153ms/step - loss: 0.2537 - accuracy: 0.9158 - val_loss: 0.9859 - val_accuracy: 0.7114\n",
            "Epoch 59/75\n",
            "450/450 [==============================] - 69s 152ms/step - loss: 0.2366 - accuracy: 0.9230 - val_loss: 0.9202 - val_accuracy: 0.7272\n",
            "Epoch 60/75\n",
            "450/450 [==============================] - 69s 153ms/step - loss: 0.2345 - accuracy: 0.9219 - val_loss: 1.1259 - val_accuracy: 0.6867\n",
            "Epoch 61/75\n",
            "450/450 [==============================] - 67s 149ms/step - loss: 0.2354 - accuracy: 0.9225 - val_loss: 0.8782 - val_accuracy: 0.7494\n",
            "Epoch 62/75\n",
            "450/450 [==============================] - 68s 151ms/step - loss: 0.2233 - accuracy: 0.9264 - val_loss: 0.9268 - val_accuracy: 0.7358\n",
            "Epoch 63/75\n",
            "450/450 [==============================] - 70s 156ms/step - loss: 0.2192 - accuracy: 0.9295 - val_loss: 0.9774 - val_accuracy: 0.7211\n",
            "Epoch 64/75\n",
            "450/450 [==============================] - 69s 153ms/step - loss: 0.2159 - accuracy: 0.9306 - val_loss: 0.9829 - val_accuracy: 0.7183\n",
            "Epoch 65/75\n",
            "450/450 [==============================] - 70s 155ms/step - loss: 0.2174 - accuracy: 0.9269 - val_loss: 0.9923 - val_accuracy: 0.7222\n",
            "Epoch 66/75\n",
            "450/450 [==============================] - 69s 153ms/step - loss: 0.2094 - accuracy: 0.9312 - val_loss: 0.9507 - val_accuracy: 0.7331\n",
            "Epoch 67/75\n",
            "450/450 [==============================] - 67s 149ms/step - loss: 0.1985 - accuracy: 0.9364 - val_loss: 0.9811 - val_accuracy: 0.7286\n",
            "Epoch 68/75\n",
            "450/450 [==============================] - 70s 155ms/step - loss: 0.2003 - accuracy: 0.9347 - val_loss: 1.0142 - val_accuracy: 0.7181\n",
            "Epoch 69/75\n",
            "450/450 [==============================] - 69s 154ms/step - loss: 0.2044 - accuracy: 0.9310 - val_loss: 1.0206 - val_accuracy: 0.7122\n",
            "Epoch 70/75\n",
            "450/450 [==============================] - 68s 152ms/step - loss: 0.1995 - accuracy: 0.9340 - val_loss: 1.0723 - val_accuracy: 0.7031\n",
            "Epoch 71/75\n",
            "450/450 [==============================] - 69s 154ms/step - loss: 0.1940 - accuracy: 0.9362 - val_loss: 1.0531 - val_accuracy: 0.7153\n",
            "Epoch 72/75\n",
            "450/450 [==============================] - 68s 151ms/step - loss: 0.1936 - accuracy: 0.9372 - val_loss: 0.9878 - val_accuracy: 0.7261\n",
            "Epoch 73/75\n",
            "450/450 [==============================] - 70s 155ms/step - loss: 0.1774 - accuracy: 0.9402 - val_loss: 0.9902 - val_accuracy: 0.7308\n",
            "Epoch 74/75\n",
            "450/450 [==============================] - 69s 153ms/step - loss: 0.1797 - accuracy: 0.9424 - val_loss: 0.9887 - val_accuracy: 0.7267\n",
            "Epoch 75/75\n",
            "450/450 [==============================] - 67s 149ms/step - loss: 0.1701 - accuracy: 0.9437 - val_loss: 1.1014 - val_accuracy: 0.7119\n"
          ]
        },
        {
          "output_type": "stream",
          "name": "stderr",
          "text": [
            "/usr/local/lib/python3.10/dist-packages/keras/src/engine/training.py:3079: UserWarning: You are saving your model as an HDF5 file via `model.save()`. This file format is considered legacy. We recommend using instead the native Keras format, e.g. `model.save('my_model.keras')`.\n",
            "  saving_api.save_model(\n"
          ]
        },
        {
          "output_type": "stream",
          "name": "stdout",
          "text": [
            "113/113 [==============================] - 3s 30ms/step - loss: 1.1014 - accuracy: 0.7119\n",
            "Validation Accuracy: 71.19%\n"
          ]
        }
      ]
    }
  ]
}